{
 "cells": [
  {
   "cell_type": "code",
   "execution_count": 1,
   "id": "3a431108",
   "metadata": {},
   "outputs": [],
   "source": [
    "import pandas as pd\n",
    "import numpy as np\n",
    "import seaborn as sns\n",
    "import matplotlib as plt"
   ]
  },
  {
   "cell_type": "code",
   "execution_count": 11,
   "id": "331d4feb",
   "metadata": {},
   "outputs": [],
   "source": [
    "with open('../raw_data/archive_13/archive(13)/', \"r\") as text_file:\n",
    "    stories=text_file.read()"
   ]
  },
  {
   "cell_type": "code",
   "execution_count": 19,
   "id": "5d7d255c",
   "metadata": {},
   "outputs": [
    {
     "data": {
      "text/plain": [
       "(2938, 4)"
      ]
     },
     "execution_count": 19,
     "metadata": {},
     "output_type": "execute_result"
    }
   ],
   "source": [
    "data.shape"
   ]
  },
  {
   "cell_type": "code",
   "execution_count": 22,
   "id": "46a94395",
   "metadata": {},
   "outputs": [
    {
     "data": {
      "text/html": [
       "<div>\n",
       "<style scoped>\n",
       "    .dataframe tbody tr th:only-of-type {\n",
       "        vertical-align: middle;\n",
       "    }\n",
       "\n",
       "    .dataframe tbody tr th {\n",
       "        vertical-align: top;\n",
       "    }\n",
       "\n",
       "    .dataframe thead th {\n",
       "        text-align: right;\n",
       "    }\n",
       "</style>\n",
       "<table border=\"1\" class=\"dataframe\">\n",
       "  <thead>\n",
       "    <tr style=\"text-align: right;\">\n",
       "      <th></th>\n",
       "      <th>title</th>\n",
       "      <th>text</th>\n",
       "    </tr>\n",
       "  </thead>\n",
       "  <tbody>\n",
       "    <tr>\n",
       "      <th>0</th>\n",
       "      <td>Momotaro</td>\n",
       "      <td>If you’ll believe me there was a time when the...</td>\n",
       "    </tr>\n",
       "    <tr>\n",
       "      <th>1</th>\n",
       "      <td>The Birdcatcher</td>\n",
       "      <td>Near Constantinople there lived a man who knew...</td>\n",
       "    </tr>\n",
       "    <tr>\n",
       "      <th>2</th>\n",
       "      <td>Sharing Joy and Sorrow</td>\n",
       "      <td>There was once a tailor, who was a quarrelsome...</td>\n",
       "    </tr>\n",
       "    <tr>\n",
       "      <th>3</th>\n",
       "      <td>The Punishment of Gangana</td>\n",
       "      <td>Once upon a time there lived a king and queen ...</td>\n",
       "    </tr>\n",
       "    <tr>\n",
       "      <th>4</th>\n",
       "      <td>The Peace with the Snakes</td>\n",
       "      <td>In those days there was a Piegan chief named O...</td>\n",
       "    </tr>\n",
       "  </tbody>\n",
       "</table>\n",
       "</div>"
      ],
      "text/plain": [
       "                       title  \\\n",
       "0                   Momotaro   \n",
       "1            The Birdcatcher   \n",
       "2     Sharing Joy and Sorrow   \n",
       "3  The Punishment of Gangana   \n",
       "4  The Peace with the Snakes   \n",
       "\n",
       "                                                text  \n",
       "0  If you’ll believe me there was a time when the...  \n",
       "1  Near Constantinople there lived a man who knew...  \n",
       "2  There was once a tailor, who was a quarrelsome...  \n",
       "3  Once upon a time there lived a king and queen ...  \n",
       "4  In those days there was a Piegan chief named O...  "
      ]
     },
     "execution_count": 22,
     "metadata": {},
     "output_type": "execute_result"
    }
   ],
   "source": [
    "data.head()"
   ]
  },
  {
   "cell_type": "code",
   "execution_count": 17,
   "id": "5d4c7ec2",
   "metadata": {
    "collapsed": true
   },
   "outputs": [
    {
     "data": {
      "text/plain": [
       "'If you’ll believe me there was a time when the fairies were none so shy as they are now. That was the time when beasts talked to men, when there were spells and enchantments and magic every day, when there was great store of hidden treasure to be dug up, and adventures for the asking.At that time, you must know, an old man and an old woman lived alone by themselves. They were good and they were poor and they had no children at all.One fine day, “What are you doing this morning, good man?” says the old woman.“Oh,” says the old man, “I’m off to the mountains with my billhook to gather a faggot of sticks for our fire. And what are you doing, good wife?”“Oh,” says the old woman, “I’m off to the stream to wash clothes. It’s my washing day,” she adds.So the old man went to the mountains and the old woman went to the stream.Now, while she was washing the clothes, what should she see but a fine ripe peach that came floating down the stream? The peach was big enough, and rosy red on both sides.“I’m in luck this morning,” said the dame, and she pulled the peach to shore with a split bamboo stick.By-and-by, when her good man came home from the hills, she set the peach before him. “Eat, good man,” she said; “this is a lucky peach I found in the stream and brought home for you.”But the old man never got a taste of the peach. And why did he not?All of a sudden the peach burst in two and there was no stone to it, but a fine boy baby where the stone should have been.“Mercy me!” says the old woman.“Mercy me!” says the old man.The boy baby first ate up one half of the peach and then he ate up the other half. When he had done this he was finer and stronger than ever.“Momotaro! Momotaro!” cries the old man; “the eldest son of the peach.”“Truth it is indeed,” says the old woman; “he was born in a peach.”Both of them took such good care of Momotaro that soon he was the stoutest and bravest boy of all that country-side. He was a credit to them, you may believe. The neighbours nodded their heads and they said, “Momotaro is the fine young man!”“Mother,” says Momotaro one day to the old woman, “make me a good store of kimi-dango” (which is the way that they call millet dumplings in those parts).“What for do you want kimi-dango?” says his mother.“Why,” says Momotaro, “I’m going on a journey, or as you may say, an adventure, and I shall be needing the kimi-dango on the way.”“Where are you going, Momotaro?” says his mother.“I’m off to the Ogres’ Island,” says Momotaro, “to get their treasure, and I should be obliged if you’d let me have the kimi-dango as soon as may be,” he says.So they made him the kimi-dango, and he put them in a wallet, and he tied the wallet to his girdle and off he set.“Sayonara, and good luck to you, Momotaro!” cried the old man and the old woman.“Sayonara! Sayonara!” cried Momotaro.He hadn’t gone far when he fell in with a monkey.“Kia! Kia!” says the monkey. “Where are you off to, Momotaro?”Says Momotaro, “I’m off to the Ogres’ Island for an adventure.”“What have you got in the wallet hanging at your girdle?”“Now you’re asking me something,” says Momotaro; “sure, I’ve some of the best millet dumplings in all Japan.”“Give me one,” says the monkey, “and I will go with you.”So Momotaro gave a millet dumpling to the monkey, and the two of them jogged on together. They hadn’t gone far when they fell in with a pheasant.“Ken! Ken!” said the pheasant. “Where are you off to, Momotaro?”Says Momotaro, “I’m off to the Ogres’ Island for an adventure.”“What have you got in your wallet, Momotaro?”“I’ve got some of the best millet dumplings in all Japan.”“Give me one,” says the pheasant, “and I will go with you.”So Momotaro gave a millet dumpling to the pheasant, and the three of them jogged on together.They hadn’t gone far when they fell in with a dog.“Bow! Wow! Wow!” says the dog. “Where are you off to, Momotaro?”Says Momotaro, “I’m off to the Ogres’ Island.”“What have you got in your wallet, Momotaro?”“I’ve got some of the best millet dumplings in all Japan.”“Give me one,” says the dog, “and I will go with you.”So Momotaro gave a millet dumpling to the dog, and the four of them jogged on together. By-and-by they came to the Ogres’ Island.“Now, brothers,” says Momotaro, “listen to my plan. The pheasant must fly over the castle gate and peck the Ogres. The monkey must climb over the castle wall and pinch the Ogres. The dog and I will break the bolts and bars. He will bite the Ogres, and I will fight the Ogres.”Then there was the great battle.Japanese Fairy tale Series, 1 of 16. Griffiin, Farran and Co. Unknown author and illustrator. Published around the 1890’s.The pheasant flew over the castle gate: “Ken! Ken! Ken!”Momotaro broke the bolts and bars, and the dog leapt into the castle courtyard. “Bow! Wow! Wow!”The brave companions fought till sundown and overcame the Ogres. Those that were left alive they took prisoners and bound with cords—a wicked lot they were.“Now, brothers,” says Momotaro, “bring out the Ogres’ treasure.”So they did.The treasure was worth having, indeed. There were magic jewels there, and caps and coats to make you invisible. There was gold and silver, and jade and coral, and amber and tortoise-shell and mother-of-pearl.“Here’s riches for all,” says Momotaro. “Choose, brothers, and take your fill.”“Kia! Kia!” says the monkey. “Thanks, my Lord Momotaro.”“Ken! Ken!” says the pheasant. “Thanks, my Lord Momotaro.”“Bow! Wow! Wow!” says the dog. “Thanks, my dear Lord Momotaro.”'"
      ]
     },
     "execution_count": 17,
     "metadata": {},
     "output_type": "execute_result"
    }
   ],
   "source": [
    "data.text[0]"
   ]
  },
  {
   "cell_type": "code",
   "execution_count": 27,
   "id": "38652a6e",
   "metadata": {},
   "outputs": [
    {
     "data": {
      "text/plain": [
       "9030.465282505105"
      ]
     },
     "execution_count": 27,
     "metadata": {},
     "output_type": "execute_result"
    }
   ],
   "source": [
    "data.text.str.len().mean()"
   ]
  },
  {
   "cell_type": "code",
   "execution_count": 20,
   "id": "659cfb2c",
   "metadata": {},
   "outputs": [
    {
     "data": {
      "text/plain": [
       "source    0\n",
       "nation    6\n",
       "title     0\n",
       "text      0\n",
       "dtype: int64"
      ]
     },
     "execution_count": 20,
     "metadata": {},
     "output_type": "execute_result"
    }
   ],
   "source": [
    "data.isna().sum()"
   ]
  },
  {
   "cell_type": "code",
   "execution_count": 21,
   "id": "b72b0771",
   "metadata": {},
   "outputs": [
    {
     "data": {
      "text/plain": [
       "0                        https://fairytalez.com/momotaro/\n",
       "1                 https://fairytalez.com/the-birdcatcher/\n",
       "2          https://fairytalez.com/sharing-joy-and-sorrow/\n",
       "3       https://fairytalez.com/the-punishment-of-gangana/\n",
       "4       https://fairytalez.com/the-peace-with-the-snakes/\n",
       "                              ...                        \n",
       "2933    https://fairytalez.com/gheeger-gheeger-cold-we...\n",
       "2934       https://fairytalez.com/lord-tarbats-relations/\n",
       "2935            https://fairytalez.com/the-clever-girl-2/\n",
       "2936          https://fairytalez.com/farmer-weatherbeard/\n",
       "2937    https://fairytalez.com/mighty-mikko-the-story-...\n",
       "Name: source, Length: 2938, dtype: object"
      ]
     },
     "execution_count": 21,
     "metadata": {},
     "output_type": "execute_result"
    }
   ],
   "source": [
    "data.pop('nation')\n",
    "data.pop('source')"
   ]
  },
  {
   "cell_type": "code",
   "execution_count": 23,
   "id": "a9d60e33",
   "metadata": {},
   "outputs": [],
   "source": [
    "data.to_csv('../processed_data/archive_13.csv')"
   ]
  }
 ],
 "metadata": {
  "kernelspec": {
   "display_name": "Python 3 (ipykernel)",
   "language": "python",
   "name": "python3"
  },
  "language_info": {
   "codemirror_mode": {
    "name": "ipython",
    "version": 3
   },
   "file_extension": ".py",
   "mimetype": "text/x-python",
   "name": "python",
   "nbconvert_exporter": "python",
   "pygments_lexer": "ipython3",
   "version": "3.10.6"
  },
  "toc": {
   "base_numbering": 1,
   "nav_menu": {},
   "number_sections": true,
   "sideBar": true,
   "skip_h1_title": false,
   "title_cell": "Table of Contents",
   "title_sidebar": "Contents",
   "toc_cell": false,
   "toc_position": {},
   "toc_section_display": true,
   "toc_window_display": false
  }
 },
 "nbformat": 4,
 "nbformat_minor": 5
}
