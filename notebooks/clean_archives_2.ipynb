{
 "cells": [
  {
   "cell_type": "code",
   "execution_count": 1,
   "id": "2f3774b4",
   "metadata": {},
   "outputs": [],
   "source": [
    "import pandas as pd\n",
    "import numpy as np\n",
    "import seaborn as sns\n",
    "import matplotlib as plt"
   ]
  },
  {
   "cell_type": "code",
   "execution_count": 4,
   "id": "7327e924",
   "metadata": {},
   "outputs": [],
   "source": [
    "data = pd.read_csv('../raw_data/archives2/archive(2)/preprocessed_data.csv')"
   ]
  },
  {
   "cell_type": "code",
   "execution_count": 12,
   "id": "67abfd31",
   "metadata": {},
   "outputs": [
    {
     "data": {
      "text/html": [
       "<div>\n",
       "<style scoped>\n",
       "    .dataframe tbody tr th:only-of-type {\n",
       "        vertical-align: middle;\n",
       "    }\n",
       "\n",
       "    .dataframe tbody tr th {\n",
       "        vertical-align: top;\n",
       "    }\n",
       "\n",
       "    .dataframe thead th {\n",
       "        text-align: right;\n",
       "    }\n",
       "</style>\n",
       "<table border=\"1\" class=\"dataframe\">\n",
       "  <thead>\n",
       "    <tr style=\"text-align: right;\">\n",
       "      <th></th>\n",
       "      <th>title</th>\n",
       "      <th>text</th>\n",
       "      <th>classification</th>\n",
       "    </tr>\n",
       "  </thead>\n",
       "  <tbody>\n",
       "    <tr>\n",
       "      <th>0</th>\n",
       "      <td>A DESCENT INTO THE MAELSTRÖM</td>\n",
       "      <td>The ways of God in Nature, as in Providence, a...</td>\n",
       "      <td>Adventure</td>\n",
       "    </tr>\n",
       "    <tr>\n",
       "      <th>1</th>\n",
       "      <td>A PREDICAMENT</td>\n",
       "      <td>What chance, good lady, hath bereft you thus? ...</td>\n",
       "      <td>Parody</td>\n",
       "    </tr>\n",
       "    <tr>\n",
       "      <th>2</th>\n",
       "      <td>A TALE OF JERUSALEM</td>\n",
       "      <td>Intensos rigidarn in frontern ascendere canos ...</td>\n",
       "      <td>Humor</td>\n",
       "    </tr>\n",
       "    <tr>\n",
       "      <th>3</th>\n",
       "      <td>A TALE OF THE RAGGED MOUNTAINS</td>\n",
       "      <td>DURING the fall of the year 1827, while residi...</td>\n",
       "      <td>Adventure,Science_fiction</td>\n",
       "    </tr>\n",
       "    <tr>\n",
       "      <th>4</th>\n",
       "      <td>BERENICE</td>\n",
       "      <td>Dicebant mihi sodales, si sepulchrum amicae vi...</td>\n",
       "      <td>Horror</td>\n",
       "    </tr>\n",
       "  </tbody>\n",
       "</table>\n",
       "</div>"
      ],
      "text/plain": [
       "                            title  \\\n",
       "0    A DESCENT INTO THE MAELSTRÖM   \n",
       "1                   A PREDICAMENT   \n",
       "2             A TALE OF JERUSALEM   \n",
       "3  A TALE OF THE RAGGED MOUNTAINS   \n",
       "4                        BERENICE   \n",
       "\n",
       "                                                text  \\\n",
       "0  The ways of God in Nature, as in Providence, a...   \n",
       "1  What chance, good lady, hath bereft you thus? ...   \n",
       "2  Intensos rigidarn in frontern ascendere canos ...   \n",
       "3  DURING the fall of the year 1827, while residi...   \n",
       "4  Dicebant mihi sodales, si sepulchrum amicae vi...   \n",
       "\n",
       "              classification  \n",
       "0                  Adventure  \n",
       "1                     Parody  \n",
       "2                      Humor  \n",
       "3  Adventure,Science_fiction  \n",
       "4                     Horror  "
      ]
     },
     "execution_count": 12,
     "metadata": {},
     "output_type": "execute_result"
    }
   ],
   "source": [
    "data.head()"
   ]
  },
  {
   "cell_type": "code",
   "execution_count": 7,
   "id": "d80b802a",
   "metadata": {
    "collapsed": true
   },
   "outputs": [
    {
     "data": {
      "text/plain": [
       "0                                                     ?\n",
       "1     Companion to \"How to Write a Blackwood Article...\n",
       "2                                                     ?\n",
       "3                                                     ?\n",
       "4                                                     ?\n",
       "                            ...                        \n",
       "65                                                    ?\n",
       "66                                                    ?\n",
       "67                                                    ?\n",
       "68                                                    ?\n",
       "69                                                    ?\n",
       "Name: notes, Length: 70, dtype: object"
      ]
     },
     "execution_count": 7,
     "metadata": {},
     "output_type": "execute_result"
    }
   ],
   "source": [
    "data.pop('notes')"
   ]
  },
  {
   "cell_type": "code",
   "execution_count": 11,
   "id": "57aba3f5",
   "metadata": {
    "collapsed": true
   },
   "outputs": [
    {
     "data": {
      "text/plain": [
       "0       A Descent into the Maelström\n",
       "1                      A Predicament\n",
       "2                A Tale of Jerusalem\n",
       "3     A Tale of the Ragged Mountains\n",
       "4                           Berenice\n",
       "                   ...              \n",
       "65                                 ?\n",
       "66                                 ?\n",
       "67                                 ?\n",
       "68                                 ?\n",
       "69                                 ?\n",
       "Name: wikipedia_title, Length: 70, dtype: object"
      ]
     },
     "execution_count": 11,
     "metadata": {},
     "output_type": "execute_result"
    }
   ],
   "source": [
    "data.pop('first_published_in')\n",
    "data.pop('publication_date')\n",
    "data.pop('normalized_date')\n",
    "data.pop('wikipedia_title')"
   ]
  },
  {
   "cell_type": "code",
   "execution_count": 14,
   "id": "d9049023",
   "metadata": {},
   "outputs": [],
   "source": [
    "data.to_csv('../processed_data/achives_2.csv')"
   ]
  },
  {
   "cell_type": "code",
   "execution_count": 16,
   "id": "5afb68ca",
   "metadata": {},
   "outputs": [
    {
     "data": {
      "text/html": [
       "<div>\n",
       "<style scoped>\n",
       "    .dataframe tbody tr th:only-of-type {\n",
       "        vertical-align: middle;\n",
       "    }\n",
       "\n",
       "    .dataframe tbody tr th {\n",
       "        vertical-align: top;\n",
       "    }\n",
       "\n",
       "    .dataframe thead th {\n",
       "        text-align: right;\n",
       "    }\n",
       "</style>\n",
       "<table border=\"1\" class=\"dataframe\">\n",
       "  <thead>\n",
       "    <tr style=\"text-align: right;\">\n",
       "      <th></th>\n",
       "      <th>title</th>\n",
       "      <th>text</th>\n",
       "      <th>classification</th>\n",
       "    </tr>\n",
       "  </thead>\n",
       "  <tbody>\n",
       "    <tr>\n",
       "      <th>0</th>\n",
       "      <td>A DESCENT INTO THE MAELSTRÖM</td>\n",
       "      <td>The ways of God in Nature, as in Providence, a...</td>\n",
       "      <td>Adventure</td>\n",
       "    </tr>\n",
       "    <tr>\n",
       "      <th>1</th>\n",
       "      <td>A PREDICAMENT</td>\n",
       "      <td>What chance, good lady, hath bereft you thus? ...</td>\n",
       "      <td>Parody</td>\n",
       "    </tr>\n",
       "    <tr>\n",
       "      <th>2</th>\n",
       "      <td>A TALE OF JERUSALEM</td>\n",
       "      <td>Intensos rigidarn in frontern ascendere canos ...</td>\n",
       "      <td>Humor</td>\n",
       "    </tr>\n",
       "    <tr>\n",
       "      <th>3</th>\n",
       "      <td>A TALE OF THE RAGGED MOUNTAINS</td>\n",
       "      <td>DURING the fall of the year 1827, while residi...</td>\n",
       "      <td>Adventure,Science_fiction</td>\n",
       "    </tr>\n",
       "    <tr>\n",
       "      <th>4</th>\n",
       "      <td>BERENICE</td>\n",
       "      <td>Dicebant mihi sodales, si sepulchrum amicae vi...</td>\n",
       "      <td>Horror</td>\n",
       "    </tr>\n",
       "    <tr>\n",
       "      <th>...</th>\n",
       "      <td>...</td>\n",
       "      <td>...</td>\n",
       "      <td>...</td>\n",
       "    </tr>\n",
       "    <tr>\n",
       "      <th>65</th>\n",
       "      <td>THE BALLOON-HOAX</td>\n",
       "      <td>[Astounding News by Express, via Norfolk!—The ...</td>\n",
       "      <td>Fiction,Hoax</td>\n",
       "    </tr>\n",
       "    <tr>\n",
       "      <th>66</th>\n",
       "      <td>THE MYSTERY OF MARIE ROGET</td>\n",
       "      <td>A SEQUEL TO “THE MURDERS IN THE RUE MORGUE.”  ...</td>\n",
       "      <td>Detective_fiction</td>\n",
       "    </tr>\n",
       "    <tr>\n",
       "      <th>67</th>\n",
       "      <td>THE POETIC PRINCIPLE</td>\n",
       "      <td>IN speaking of the Poetic Principle, I have no...</td>\n",
       "      <td>Essay</td>\n",
       "    </tr>\n",
       "    <tr>\n",
       "      <th>68</th>\n",
       "      <td>THE UNPARALLELED ADVENTURES OF ONE HANS PFAAL</td>\n",
       "      <td>BY late accounts from Rotterdam, that city see...</td>\n",
       "      <td>Hoax,Science_fiction</td>\n",
       "    </tr>\n",
       "    <tr>\n",
       "      <th>69</th>\n",
       "      <td>X-ING A PARAGRAPH</td>\n",
       "      <td>AS it is well known that the ‘wise men’ came ‘...</td>\n",
       "      <td>Satire</td>\n",
       "    </tr>\n",
       "  </tbody>\n",
       "</table>\n",
       "<p>70 rows × 3 columns</p>\n",
       "</div>"
      ],
      "text/plain": [
       "                                            title  \\\n",
       "0                    A DESCENT INTO THE MAELSTRÖM   \n",
       "1                                   A PREDICAMENT   \n",
       "2                             A TALE OF JERUSALEM   \n",
       "3                  A TALE OF THE RAGGED MOUNTAINS   \n",
       "4                                        BERENICE   \n",
       "..                                            ...   \n",
       "65                               THE BALLOON-HOAX   \n",
       "66                     THE MYSTERY OF MARIE ROGET   \n",
       "67                           THE POETIC PRINCIPLE   \n",
       "68  THE UNPARALLELED ADVENTURES OF ONE HANS PFAAL   \n",
       "69                              X-ING A PARAGRAPH   \n",
       "\n",
       "                                                 text  \\\n",
       "0   The ways of God in Nature, as in Providence, a...   \n",
       "1   What chance, good lady, hath bereft you thus? ...   \n",
       "2   Intensos rigidarn in frontern ascendere canos ...   \n",
       "3   DURING the fall of the year 1827, while residi...   \n",
       "4   Dicebant mihi sodales, si sepulchrum amicae vi...   \n",
       "..                                                ...   \n",
       "65  [Astounding News by Express, via Norfolk!—The ...   \n",
       "66  A SEQUEL TO “THE MURDERS IN THE RUE MORGUE.”  ...   \n",
       "67  IN speaking of the Poetic Principle, I have no...   \n",
       "68  BY late accounts from Rotterdam, that city see...   \n",
       "69  AS it is well known that the ‘wise men’ came ‘...   \n",
       "\n",
       "               classification  \n",
       "0                   Adventure  \n",
       "1                      Parody  \n",
       "2                       Humor  \n",
       "3   Adventure,Science_fiction  \n",
       "4                      Horror  \n",
       "..                        ...  \n",
       "65               Fiction,Hoax  \n",
       "66          Detective_fiction  \n",
       "67                      Essay  \n",
       "68       Hoax,Science_fiction  \n",
       "69                     Satire  \n",
       "\n",
       "[70 rows x 3 columns]"
      ]
     },
     "execution_count": 16,
     "metadata": {},
     "output_type": "execute_result"
    }
   ],
   "source": [
    "data"
   ]
  },
  {
   "cell_type": "code",
   "execution_count": 19,
   "id": "8988be8f",
   "metadata": {},
   "outputs": [
    {
     "data": {
      "text/plain": [
       "1914277"
      ]
     },
     "execution_count": 19,
     "metadata": {},
     "output_type": "execute_result"
    }
   ],
   "source": [
    "data.text.str.len().sum()"
   ]
  }
 ],
 "metadata": {
  "kernelspec": {
   "display_name": "Python 3 (ipykernel)",
   "language": "python",
   "name": "python3"
  },
  "language_info": {
   "codemirror_mode": {
    "name": "ipython",
    "version": 3
   },
   "file_extension": ".py",
   "mimetype": "text/x-python",
   "name": "python",
   "nbconvert_exporter": "python",
   "pygments_lexer": "ipython3",
   "version": "3.10.6"
  },
  "toc": {
   "base_numbering": 1,
   "nav_menu": {},
   "number_sections": true,
   "sideBar": true,
   "skip_h1_title": false,
   "title_cell": "Table of Contents",
   "title_sidebar": "Contents",
   "toc_cell": false,
   "toc_position": {},
   "toc_section_display": true,
   "toc_window_display": false
  }
 },
 "nbformat": 4,
 "nbformat_minor": 5
}
