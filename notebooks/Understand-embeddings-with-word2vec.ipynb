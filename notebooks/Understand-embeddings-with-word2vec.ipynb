{
 "cells": [
  {
   "cell_type": "code",
   "execution_count": 22,
   "metadata": {
    "ExecuteTime": {
     "end_time": "2023-03-07T13:05:39.792722Z",
     "start_time": "2023-03-07T13:05:39.730346Z"
    }
   },
   "outputs": [
    {
     "name": "stdout",
     "output_type": "stream",
     "text": [
      "The autoreload extension is already loaded. To reload it, use:\n",
      "  %reload_ext autoreload\n"
     ]
    }
   ],
   "source": [
    "%load_ext autoreload\n",
    "%autoreload 2\n",
    "\n",
    "# DATA MANIPULATION\n",
    "import pandas as pd\n",
    "pd.set_option('display.max_columns', None)\n",
    "import numpy as np\n",
    "\n",
    "# DATA VISUALISATION\n",
    "import matplotlib.pyplot as plt\n",
    "%matplotlib inline\n",
    "\n",
    "import seaborn as sns\n",
    "\n",
    "#Tenserflow\n",
    "import tensorflow.keras as tk\n",
    "\n",
    "from tensorflow.keras import Sequential, layers, regularizers\n",
    "\n",
    "from tensorflow.keras.utils import pad_sequences\n",
    "\n",
    "from tensorflow.keras.callbacks import EarlyStopping\n",
    "\n",
    "from tensorflow.keras.layers import Normalization\n",
    "from tensorflow.keras.layers import Dense, SimpleRNN, Flatten\n",
    "\n",
    "from tensorflow.keras.preprocessing.text import text_to_word_sequence, Tokenizer\n",
    "\n",
    "# VIEWING OPTIONS IN THE NOTEBOOK\n",
    "from sklearn import set_config; set_config(display='diagram')\n",
    "\n",
    "\n",
    "from sklearn.model_selection import train_test_split, KFold\n",
    "\n",
    "from sklearn.preprocessing import StandardScaler\n",
    "\n"
   ]
  },
  {
   "cell_type": "markdown",
   "metadata": {},
   "source": [
    "# Understand embeddings with Word2Vec"
   ]
  },
  {
   "cell_type": "markdown",
   "metadata": {},
   "source": [
    "### Exercise objectives:\n",
    "- Convert 🔠 words to 🔢 vector representations thanks to embeddings\n",
    "- Discover the powerful Word2Vec algorithm\n",
    "\n",
    "<hr>\n",
    "\n",
    "_Embeddings_ are representations of words using vectors. These embeddings can be learned within a Neural Network. But it can take time to converge. Another option is to learn them as a first step. Then, use them directly to feed the word representations into a Recurrent Neural Network. "
   ]
  },
  {
   "cell_type": "markdown",
   "metadata": {},
   "source": [
    "▶️ Run this cell and make sure the version of 📚 [Gensim - Word2Vec](https://radimrehurek.com/gensim/auto_examples/index.html) you are using is ≥ 4.0!"
   ]
  },
  {
   "cell_type": "code",
   "execution_count": 2,
   "metadata": {
    "ExecuteTime": {
     "end_time": "2023-03-07T13:01:22.581563Z",
     "start_time": "2023-03-07T13:01:21.519022Z"
    }
   },
   "outputs": [
    {
     "name": "stdout",
     "output_type": "stream",
     "text": [
      "gensim==4.2.0\r\n"
     ]
    }
   ],
   "source": [
    "!pip freeze | grep gensim"
   ]
  },
  {
   "cell_type": "code",
   "execution_count": 3,
   "metadata": {
    "ExecuteTime": {
     "end_time": "2023-03-07T13:01:23.465057Z",
     "start_time": "2023-03-07T13:01:22.585885Z"
    }
   },
   "outputs": [
    {
     "name": "stdout",
     "output_type": "stream",
     "text": [
      "tensorflow==2.10.0\r\n",
      "tensorflow-datasets==4.6.0\r\n",
      "tensorflow-estimator==2.10.0\r\n",
      "tensorflow-io-gcs-filesystem==0.27.0\r\n",
      "tensorflow-metadata==1.10.0\r\n"
     ]
    }
   ],
   "source": [
    "!pip freeze | grep tensorflow"
   ]
  },
  {
   "cell_type": "markdown",
   "metadata": {},
   "source": [
    "# The data"
   ]
  },
  {
   "cell_type": "markdown",
   "metadata": {},
   "source": [
    "Keras provides many datasets, among which is the IMDB dataset 🎬:\n",
    "- It is comprised of sentences that are ***movie reviews***. \n",
    "- Each of these reviews is related to a score given by the reviewer.\n",
    "\n",
    "❓ **Question** ❓ First of all, let's load the data. You don't have to understand what is going on in the function, it does not matter here.\n",
    "\n",
    "⚠️ **Warning** ⚠️ The `load_data` function has a `percentage_of_sentences` argument. Depending on your computer, there are chances that too many sentences will make your compute slow down, or even freeze - your RAM can overflow. For that reason, **you should start with 10% of the sentences** and see if your computer can handle it. Otherwise, rerun with a lower number.  \n",
    "\n",
    "⚠️ **DISCLAIMER** ⚠️ **No need to play _who has the biggest_ (RAM) !** The idea is to get to run your models quickly to prototype. Even in real life, it is recommended that you start with a subset of your data to loop and debug quickly. So increase the number only if you are into getting the best accuracy. "
   ]
  },
  {
   "cell_type": "code",
   "execution_count": 4,
   "metadata": {
    "ExecuteTime": {
     "end_time": "2023-03-07T13:01:26.914077Z",
     "start_time": "2023-03-07T13:01:23.471493Z"
    }
   },
   "outputs": [
    {
     "name": "stderr",
     "output_type": "stream",
     "text": [
      "2023-03-07 14:01:24.525122: I tensorflow/stream_executor/cuda/cuda_gpu_executor.cc:966] could not open file to read NUMA node: /sys/bus/pci/devices/0000:01:00.0/numa_node\n",
      "Your kernel may have been built without NUMA support.\n",
      "2023-03-07 14:01:24.525305: W tensorflow/stream_executor/platform/default/dso_loader.cc:64] Could not load dynamic library 'libcudart.so.11.0'; dlerror: libcudart.so.11.0: cannot open shared object file: No such file or directory\n",
      "2023-03-07 14:01:24.525389: W tensorflow/stream_executor/platform/default/dso_loader.cc:64] Could not load dynamic library 'libcublas.so.11'; dlerror: libcublas.so.11: cannot open shared object file: No such file or directory\n",
      "2023-03-07 14:01:24.525445: W tensorflow/stream_executor/platform/default/dso_loader.cc:64] Could not load dynamic library 'libcublasLt.so.11'; dlerror: libcublasLt.so.11: cannot open shared object file: No such file or directory\n",
      "2023-03-07 14:01:24.525493: W tensorflow/stream_executor/platform/default/dso_loader.cc:64] Could not load dynamic library 'libcufft.so.10'; dlerror: libcufft.so.10: cannot open shared object file: No such file or directory\n",
      "2023-03-07 14:01:24.525539: W tensorflow/stream_executor/platform/default/dso_loader.cc:64] Could not load dynamic library 'libcurand.so.10'; dlerror: libcurand.so.10: cannot open shared object file: No such file or directory\n",
      "2023-03-07 14:01:24.525583: W tensorflow/stream_executor/platform/default/dso_loader.cc:64] Could not load dynamic library 'libcusolver.so.11'; dlerror: libcusolver.so.11: cannot open shared object file: No such file or directory\n",
      "2023-03-07 14:01:24.525623: W tensorflow/stream_executor/platform/default/dso_loader.cc:64] Could not load dynamic library 'libcusparse.so.11'; dlerror: libcusparse.so.11: cannot open shared object file: No such file or directory\n",
      "2023-03-07 14:01:24.525663: W tensorflow/stream_executor/platform/default/dso_loader.cc:64] Could not load dynamic library 'libcudnn.so.8'; dlerror: libcudnn.so.8: cannot open shared object file: No such file or directory\n",
      "2023-03-07 14:01:24.525674: W tensorflow/core/common_runtime/gpu/gpu_device.cc:1934] Cannot dlopen some GPU libraries. Please make sure the missing libraries mentioned above are installed properly if you would like to use GPU. Follow the guide at https://www.tensorflow.org/install/gpu for how to download and setup the required libraries for your platform.\n",
      "Skipping registering GPU devices...\n",
      "2023-03-07 14:01:24.526590: I tensorflow/core/platform/cpu_feature_guard.cc:193] This TensorFlow binary is optimized with oneAPI Deep Neural Network Library (oneDNN) to use the following CPU instructions in performance-critical operations:  AVX2 FMA\n",
      "To enable them in other operations, rebuild TensorFlow with the appropriate compiler flags.\n"
     ]
    }
   ],
   "source": [
    "###########################################\n",
    "### Just run this cell to load the data ###\n",
    "###########################################\n",
    "\n",
    "import tensorflow_datasets as tfds\n",
    "from tensorflow.keras.preprocessing.text import text_to_word_sequence\n",
    "\n",
    "def load_data(percentage_of_sentences=None):\n",
    "    train_data, test_data = tfds.load(name=\"imdb_reviews\", split=[\"train\", \"test\"], batch_size=-1, as_supervised=True)\n",
    "\n",
    "    train_sentences, y_train = tfds.as_numpy(train_data)\n",
    "    test_sentences, y_test = tfds.as_numpy(test_data)\n",
    "    \n",
    "    # Take only a given percentage of the entire data\n",
    "    if percentage_of_sentences is not None:\n",
    "        assert(percentage_of_sentences> 0 and percentage_of_sentences<=100)\n",
    "        \n",
    "        len_train = int(percentage_of_sentences/100*len(train_sentences))\n",
    "        train_sentences, y_train = train_sentences[:len_train], y_train[:len_train]\n",
    "  \n",
    "        len_test = int(percentage_of_sentences/100*len(test_sentences))\n",
    "        test_sentences, y_test = test_sentences[:len_test], y_test[:len_test]\n",
    "    \n",
    "    X_train = [text_to_word_sequence(_.decode(\"utf-8\")) for _ in train_sentences]\n",
    "    X_test = [text_to_word_sequence(_.decode(\"utf-8\")) for _ in test_sentences]\n",
    "    \n",
    "    return X_train, y_train, X_test, y_test\n",
    "\n",
    "X_train, y_train, X_test, y_test = load_data(percentage_of_sentences=25)"
   ]
  },
  {
   "cell_type": "markdown",
   "metadata": {},
   "source": [
    "<b><u>Embeddings in the previous challenge</u></b>:\n",
    "\n",
    "In the previous exercise, we jointly learned a representation for the words, and fed this representation to a RNN, as shown down below 👇: \n",
    "\n",
    "<img src=\"layers_embedding.png\" width=\"400px\" />\n",
    "\n",
    "However, this increases the number of parameters to learn, which slows down and increases the difficulty of convergence!"
   ]
  },
  {
   "cell_type": "markdown",
   "metadata": {},
   "source": [
    "<b><u>Embeddings in the current challenge</u></b>:\n",
    "\n",
    "For this reason, we will separate the steps of learning the word representation and feeding it into a RNN. As shown here: \n",
    "\n",
    "<img src=\"word2vec_representation.png\" width=\"400px\" />\n",
    "\n",
    "We will learn the embedding with Word2Vec.\n",
    "\n",
    "The drawback is indeed that the learned embeddings are not _specifically_ designed for our task. However, learning them independently of the task at hand (sentiment analysis) has some advantages: \n",
    "- it is very fast to do in general (with Word2Vec)\n",
    "- the representation learned by Word2Vec is still meaningful \n",
    "- the convergence of the RNN alone will be easier and faster\n",
    "\n",
    "So let's learn an embedding with Word2Vec and see how meaningful it is!"
   ]
  },
  {
   "cell_type": "markdown",
   "metadata": {},
   "source": [
    "# Embedding with Word2Vec"
   ]
  },
  {
   "cell_type": "markdown",
   "metadata": {},
   "source": [
    "Let's use Word2Vec to embed the words of our sentences. Word2Vec will be able to convert each word to a fixed-size vectorial representation.\n",
    "\n",
    "For instance, we will have:\n",
    "- 🐶 _dog_ $\\rightarrow$ [0.1, -0.3, 0.8]\n",
    "- 🐱 _cat_ $\\rightarrow$ [-1.1, 2.3, 0.7]\n",
    "- 🍏 _apple_ $\\rightarrow$ [3.1, 0.9, -4.7]\n",
    "\n",
    "Here, your embedding space is of size 3.\n",
    "\n",
    "***What is a \"good\" numerical representation of words?***\n",
    "\n",
    "- ***Words with close meanings should be geometrically close in your embedding space!***\n",
    "\n",
    "    - Look at the following example which represents a bi-dimensional embedding space.\n",
    "\n",
    "![Embedding](word_embedding.png)"
   ]
  },
  {
   "cell_type": "markdown",
   "metadata": {},
   "source": [
    "❓ **Question** ❓ Let's run Word2Vec! \n",
    "\n",
    "[📚 **Gensim**](https://radimrehurek.com/gensim/)  is a great Python package that makes the use of the Word2Vec algorithm easy to implement, fast and accurate (which is not an easy task!).\n",
    "\n",
    "1. The following code imports Word2Vec from Gensim. \n",
    "\n",
    "2. The second line learns the embedding representation of the words thanks to the sentences in `X_train`. \n",
    "3. The third line stores the words and their trained embeddings in `wv`."
   ]
  },
  {
   "cell_type": "code",
   "execution_count": 5,
   "metadata": {
    "ExecuteTime": {
     "end_time": "2023-03-07T13:01:30.665597Z",
     "start_time": "2023-03-07T13:01:26.920814Z"
    },
    "tags": []
   },
   "outputs": [],
   "source": [
    "from gensim.models import Word2Vec\n",
    "\n",
    "word2vec = Word2Vec(sentences=X_train)\n",
    "wv = word2vec.wv"
   ]
  },
  {
   "cell_type": "markdown",
   "metadata": {},
   "source": [
    "Let's look at the embedded representation of some words.\n",
    "\n",
    "You can use `wv` as a dictionary.\n",
    "For instance, `wv['dog']` will return a representation of `dog` in the embedding space."
   ]
  },
  {
   "cell_type": "markdown",
   "metadata": {},
   "source": [
    "❓ **Question** ❓ Try different words - especially, try non-existing words to see that they don't have any representation (which is perfectly normal as their representation was not learned). "
   ]
  },
  {
   "cell_type": "code",
   "execution_count": 6,
   "metadata": {
    "ExecuteTime": {
     "end_time": "2023-03-07T13:01:32.321165Z",
     "start_time": "2023-03-07T13:01:30.674900Z"
    },
    "tags": [
     "challengify"
    ]
   },
   "outputs": [
    {
     "ename": "KeyError",
     "evalue": "\"Key 'megatron' not present\"",
     "output_type": "error",
     "traceback": [
      "\u001b[0;31m---------------------------------------------------------------------------\u001b[0m",
      "\u001b[0;31mKeyError\u001b[0m                                  Traceback (most recent call last)",
      "Cell \u001b[0;32mIn [6], line 1\u001b[0m\n\u001b[0;32m----> 1\u001b[0m \u001b[43mwv\u001b[49m\u001b[43m[\u001b[49m\u001b[38;5;124;43m'\u001b[39;49m\u001b[38;5;124;43mmegatron\u001b[39;49m\u001b[38;5;124;43m'\u001b[39;49m\u001b[43m]\u001b[49m\n",
      "File \u001b[0;32m~/.pyenv/versions/3.10.6/envs/lewagon/lib/python3.10/site-packages/gensim/models/keyedvectors.py:404\u001b[0m, in \u001b[0;36mKeyedVectors.__getitem__\u001b[0;34m(self, key_or_keys)\u001b[0m\n\u001b[1;32m    390\u001b[0m \u001b[38;5;124;03m\"\"\"Get vector representation of `key_or_keys`.\u001b[39;00m\n\u001b[1;32m    391\u001b[0m \n\u001b[1;32m    392\u001b[0m \u001b[38;5;124;03mParameters\u001b[39;00m\n\u001b[0;32m   (...)\u001b[0m\n\u001b[1;32m    401\u001b[0m \n\u001b[1;32m    402\u001b[0m \u001b[38;5;124;03m\"\"\"\u001b[39;00m\n\u001b[1;32m    403\u001b[0m \u001b[38;5;28;01mif\u001b[39;00m \u001b[38;5;28misinstance\u001b[39m(key_or_keys, _KEY_TYPES):\n\u001b[0;32m--> 404\u001b[0m     \u001b[38;5;28;01mreturn\u001b[39;00m \u001b[38;5;28;43mself\u001b[39;49m\u001b[38;5;241;43m.\u001b[39;49m\u001b[43mget_vector\u001b[49m\u001b[43m(\u001b[49m\u001b[43mkey_or_keys\u001b[49m\u001b[43m)\u001b[49m\n\u001b[1;32m    406\u001b[0m \u001b[38;5;28;01mreturn\u001b[39;00m vstack([\u001b[38;5;28mself\u001b[39m\u001b[38;5;241m.\u001b[39mget_vector(key) \u001b[38;5;28;01mfor\u001b[39;00m key \u001b[38;5;129;01min\u001b[39;00m key_or_keys])\n",
      "File \u001b[0;32m~/.pyenv/versions/3.10.6/envs/lewagon/lib/python3.10/site-packages/gensim/models/keyedvectors.py:447\u001b[0m, in \u001b[0;36mKeyedVectors.get_vector\u001b[0;34m(self, key, norm)\u001b[0m\n\u001b[1;32m    423\u001b[0m \u001b[38;5;28;01mdef\u001b[39;00m \u001b[38;5;21mget_vector\u001b[39m(\u001b[38;5;28mself\u001b[39m, key, norm\u001b[38;5;241m=\u001b[39m\u001b[38;5;28;01mFalse\u001b[39;00m):\n\u001b[1;32m    424\u001b[0m     \u001b[38;5;124;03m\"\"\"Get the key's vector, as a 1D numpy array.\u001b[39;00m\n\u001b[1;32m    425\u001b[0m \n\u001b[1;32m    426\u001b[0m \u001b[38;5;124;03m    Parameters\u001b[39;00m\n\u001b[0;32m   (...)\u001b[0m\n\u001b[1;32m    445\u001b[0m \n\u001b[1;32m    446\u001b[0m \u001b[38;5;124;03m    \"\"\"\u001b[39;00m\n\u001b[0;32m--> 447\u001b[0m     index \u001b[38;5;241m=\u001b[39m \u001b[38;5;28;43mself\u001b[39;49m\u001b[38;5;241;43m.\u001b[39;49m\u001b[43mget_index\u001b[49m\u001b[43m(\u001b[49m\u001b[43mkey\u001b[49m\u001b[43m)\u001b[49m\n\u001b[1;32m    448\u001b[0m     \u001b[38;5;28;01mif\u001b[39;00m norm:\n\u001b[1;32m    449\u001b[0m         \u001b[38;5;28mself\u001b[39m\u001b[38;5;241m.\u001b[39mfill_norms()\n",
      "File \u001b[0;32m~/.pyenv/versions/3.10.6/envs/lewagon/lib/python3.10/site-packages/gensim/models/keyedvectors.py:421\u001b[0m, in \u001b[0;36mKeyedVectors.get_index\u001b[0;34m(self, key, default)\u001b[0m\n\u001b[1;32m    419\u001b[0m     \u001b[38;5;28;01mreturn\u001b[39;00m default\n\u001b[1;32m    420\u001b[0m \u001b[38;5;28;01melse\u001b[39;00m:\n\u001b[0;32m--> 421\u001b[0m     \u001b[38;5;28;01mraise\u001b[39;00m \u001b[38;5;167;01mKeyError\u001b[39;00m(\u001b[38;5;124mf\u001b[39m\u001b[38;5;124m\"\u001b[39m\u001b[38;5;124mKey \u001b[39m\u001b[38;5;124m'\u001b[39m\u001b[38;5;132;01m{\u001b[39;00mkey\u001b[38;5;132;01m}\u001b[39;00m\u001b[38;5;124m'\u001b[39m\u001b[38;5;124m not present\u001b[39m\u001b[38;5;124m\"\u001b[39m)\n",
      "\u001b[0;31mKeyError\u001b[0m: \"Key 'megatron' not present\""
     ]
    }
   ],
   "source": [
    "wv['megatron']"
   ]
  },
  {
   "cell_type": "markdown",
   "metadata": {},
   "source": [
    "❓ **Question** ❓ What is the size of each word representation, and therefore, what is the size of the embedding space?"
   ]
  },
  {
   "cell_type": "code",
   "execution_count": 7,
   "metadata": {
    "ExecuteTime": {
     "end_time": "2023-03-07T13:01:58.014680Z",
     "start_time": "2023-03-07T13:01:57.953433Z"
    },
    "tags": [
     "challengify"
    ]
   },
   "outputs": [
    {
     "data": {
      "text/plain": [
       "14416"
      ]
     },
     "execution_count": 7,
     "metadata": {},
     "output_type": "execute_result"
    }
   ],
   "source": [
    "len(wv)"
   ]
  },
  {
   "cell_type": "markdown",
   "metadata": {},
   "source": [
    "🧐 How do we know whether this embedding make any sense or not? \n",
    "\n",
    "💡 To investigate this question, we will check that words with a close meaning have close representations. \n",
    "\n",
    "👉 Let's use the [**`Word2Vec.wv.most_similar`**](https://radimrehurek.com/gensim/models/keyedvectors.html#gensim.models.keyedvectors.KeyedVectors.most_similar) method that, given an input word, displays the \"closest\" words in the embedding space. If the embedding is well done, then words with similar meanings will have similar representation in the embedding space."
   ]
  },
  {
   "cell_type": "markdown",
   "metadata": {},
   "source": [
    "❓ **Question** ❓ Try out the `most_similar` method on different words. \n",
    "\n",
    "🧑🏿‍🏫 The quality of the closeness will depend on the quality of your embedding, and thus, depend on the number of sentences that you have loaded and from which you create your embedding."
   ]
  },
  {
   "cell_type": "code",
   "execution_count": 26,
   "metadata": {
    "ExecuteTime": {
     "end_time": "2023-03-07T13:06:37.825217Z",
     "start_time": "2023-03-07T13:06:37.779904Z"
    },
    "tags": [
     "challengify"
    ]
   },
   "outputs": [
    {
     "data": {
      "text/plain": [
       "[('bases', 0.9206402897834778),\n",
       " ('burnt', 0.9192240238189697),\n",
       " ('rvd', 0.917300820350647),\n",
       " ('swing', 0.9172818064689636),\n",
       " ('limbs', 0.9162314534187317),\n",
       " ('dudley', 0.9146203398704529),\n",
       " ('primal', 0.9140545129776001),\n",
       " ('boarding', 0.913859486579895),\n",
       " ('industrial', 0.9135359525680542),\n",
       " ('forest', 0.9130655527114868)]"
      ]
     },
     "execution_count": 26,
     "metadata": {},
     "output_type": "execute_result"
    }
   ],
   "source": [
    "wv.most_similar('dragon')\n",
    "\n"
   ]
  },
  {
   "cell_type": "markdown",
   "metadata": {},
   "source": [
    "📚 Similarly to `most_similar` used on words directly, we can use [**`similar_by_vector`**](https://radimrehurek.com/gensim/models/keyedvectors.html#gensim.models.keyedvectors.KeyedVectors.similar_by_vector) on vectors to do the same thing:"
   ]
  },
  {
   "cell_type": "code",
   "execution_count": 27,
   "metadata": {
    "ExecuteTime": {
     "end_time": "2023-03-07T13:08:24.326771Z",
     "start_time": "2023-03-07T13:08:24.284935Z"
    },
    "tags": [
     "challengify"
    ]
   },
   "outputs": [
    {
     "data": {
      "text/plain": [
       "[('bases', 0.9206402897834778),\n",
       " ('burnt', 0.9192240238189697),\n",
       " ('rvd', 0.917300820350647),\n",
       " ('swing', 0.9172818064689636),\n",
       " ('limbs', 0.9162314534187317),\n",
       " ('dudley', 0.9146203398704529),\n",
       " ('primal', 0.9140545129776001),\n",
       " ('boarding', 0.913859486579895),\n",
       " ('industrial', 0.9135359525680542),\n",
       " ('forest', 0.9130655527114868)]"
      ]
     },
     "execution_count": 27,
     "metadata": {},
     "output_type": "execute_result"
    }
   ],
   "source": [
    "wv.similar_by_vector('dragon')"
   ]
  },
  {
   "cell_type": "markdown",
   "metadata": {},
   "source": [
    "# Arithmetic on words"
   ]
  },
  {
   "cell_type": "markdown",
   "metadata": {},
   "source": [
    "Now, let's perform some mathematical operations on words, i.e. on their vector representations!\n",
    "\n",
    "As any learned word is represented as a vector, you can do basic arithmetic operations, such as:\n",
    "\n",
    "$$W2V(good) - W2V(bad)$$"
   ]
  },
  {
   "cell_type": "markdown",
   "metadata": {},
   "source": [
    "❓ **Question** ❓ Do this mathematical operation and print the result"
   ]
  },
  {
   "cell_type": "code",
   "execution_count": 10,
   "metadata": {
    "ExecuteTime": {
     "end_time": "2023-03-07T13:01:58.246131Z",
     "start_time": "2023-03-07T13:01:58.183290Z"
    },
    "tags": [
     "challengify"
    ]
   },
   "outputs": [
    {
     "data": {
      "text/plain": [
       "array([ 0.13821852,  0.29293764,  0.31630915, -0.02461898, -0.59089386,\n",
       "        0.10915166, -0.59043   , -0.4498074 ,  0.08736414,  0.25280398,\n",
       "        0.07337239,  1.4182571 ,  1.5282569 , -0.1287528 ,  0.4085245 ,\n",
       "        1.246073  , -0.59631455,  0.4918037 , -0.5533391 , -0.10912788,\n",
       "       -1.0415547 , -0.10327069,  0.23228982, -1.5964236 , -1.0605935 ,\n",
       "       -0.6932473 ,  0.09098893,  1.3175317 , -1.6252261 , -0.31663683,\n",
       "       -0.07955736, -0.35801625, -0.2625772 ,  0.803452  , -0.36748305,\n",
       "       -0.85303843,  0.2943256 ,  0.28989363,  0.13500118,  1.7001845 ,\n",
       "       -0.5963145 , -1.4560372 , -1.1599425 ,  0.01694405,  0.2249378 ,\n",
       "        0.11155123,  0.91058713, -0.39211848, -0.88547236,  1.1530259 ,\n",
       "        0.44481432, -0.9026528 , -0.35015047, -0.8633362 ,  1.1442974 ,\n",
       "        0.1154869 , -0.14281133,  0.24031207, -0.11758047, -0.6391529 ,\n",
       "        0.31546512, -1.1679293 ,  0.5442826 ,  0.30026585,  1.2727592 ,\n",
       "       -0.14412999, -0.28882372,  1.2253339 ,  0.15873563,  0.326513  ,\n",
       "       -0.21387577, -0.85418165,  1.0050288 ,  0.95237136, -0.10955493,\n",
       "        0.5970846 , -0.6823285 ,  0.49510556, -1.0319617 , -0.4244541 ,\n",
       "       -0.11576205,  0.9486321 , -0.7705016 , -0.40012768, -0.02570176,\n",
       "       -0.3399812 , -0.73103404, -0.21913719, -0.64067996, -1.1507542 ,\n",
       "       -0.28321552,  1.6163491 , -0.91631603,  0.38584042, -0.12426275,\n",
       "       -0.52112114,  1.2263154 , -0.20700729, -0.3959161 , -0.5731444 ],\n",
       "      dtype=float32)"
      ]
     },
     "execution_count": 10,
     "metadata": {},
     "output_type": "execute_result"
    }
   ],
   "source": [
    "wv['good']-wv['bad']"
   ]
  },
  {
   "cell_type": "markdown",
   "metadata": {},
   "source": [
    "Now, imagine for a second that the following equality holds true:\n",
    "\n",
    "$$W2V(good) - W2V(bad) = W2V(nice) - W2V(stupid)$$\n",
    "\n",
    "which is equivalent to:\n",
    "\n",
    "$$W2V(good) - W2V(bad) + W2V(stupid) = W2V(nice)$$"
   ]
  },
  {
   "cell_type": "markdown",
   "metadata": {},
   "source": [
    "❓ **Question** ❓ Let's, just for fun (as it would be bold of us to think that this equality holds true ...), do the operation $W2V(good) - W2V(bad) + W2V(stupid)$ and store it in a `res` variable (which will be a vector of size 100 that you can print)."
   ]
  },
  {
   "cell_type": "code",
   "execution_count": 11,
   "metadata": {
    "ExecuteTime": {
     "end_time": "2023-03-07T13:01:58.296582Z",
     "start_time": "2023-03-07T13:01:58.249610Z"
    },
    "tags": [
     "challengify"
    ]
   },
   "outputs": [],
   "source": [
    "res = wv['good']-wv['bad']+wv['stupid']"
   ]
  },
  {
   "cell_type": "markdown",
   "metadata": {},
   "source": [
    "We said earlier, that for any vector it is possible to see the closest vectors in the embedding space."
   ]
  },
  {
   "cell_type": "markdown",
   "metadata": {},
   "source": [
    "❓ **Question** ❓ Look at the closest vectors of `res`\n",
    "\n",
    "💡 _Hint_: `similar_by_vector`"
   ]
  },
  {
   "cell_type": "code",
   "execution_count": 12,
   "metadata": {
    "ExecuteTime": {
     "end_time": "2023-03-07T13:01:58.350236Z",
     "start_time": "2023-03-07T13:01:58.300833Z"
    },
    "tags": [
     "challengify"
    ]
   },
   "outputs": [
    {
     "data": {
      "text/plain": [
       "[('nice', 0.7363389730453491),\n",
       " ('good', 0.7231959700584412),\n",
       " ('decent', 0.6979979276657104),\n",
       " ('great', 0.6316981911659241),\n",
       " ('fine', 0.6133387684822083),\n",
       " ('interesting', 0.6066603064537048),\n",
       " ('strange', 0.5992788076400757),\n",
       " ('cool', 0.5874645709991455),\n",
       " ('funny', 0.5812341570854187),\n",
       " ('beautiful', 0.5655096769332886)]"
      ]
     },
     "execution_count": 12,
     "metadata": {},
     "output_type": "execute_result"
    }
   ],
   "source": [
    "wv.similar_by_vector(res)"
   ]
  },
  {
   "cell_type": "markdown",
   "metadata": {},
   "source": [
    "Incredible right! You can do arithmetic operations on words!\n",
    "\n",
    "❓ **Question** ❓ You can try on arithmetic such as \n",
    "\n",
    "$$W2V(Boy) - W2V(Girl) = W2V(Man) - W2V(Woman)$$\n",
    "\n",
    "or \n",
    "\n",
    "$$W2V(Queen) - W2V(King) = W2V(actress) - W2V(actor)$$\n",
    "\n",
    "❗ **Remark** ❗ You will probably see that the results are not perfect. But don't forget that you trained your model on a very small corpus."
   ]
  },
  {
   "cell_type": "code",
   "execution_count": 13,
   "metadata": {
    "ExecuteTime": {
     "end_time": "2023-03-07T13:01:58.420577Z",
     "start_time": "2023-03-07T13:01:58.353230Z"
    },
    "tags": [
     "challengify"
    ]
   },
   "outputs": [
    {
     "data": {
      "text/plain": [
       "[('woman', 0.8960340619087219),\n",
       " ('boy', 0.8583593964576721),\n",
       " ('lady', 0.8326420783996582),\n",
       " ('named', 0.8040511012077332),\n",
       " ('doctor', 0.8011386394500732),\n",
       " ('man', 0.8005926012992859),\n",
       " ('soldier', 0.7975231409072876),\n",
       " ('rich', 0.7902207970619202),\n",
       " ('scientist', 0.7834914326667786),\n",
       " ('ex', 0.7781528830528259)]"
      ]
     },
     "execution_count": 13,
     "metadata": {},
     "output_type": "execute_result"
    }
   ],
   "source": [
    "wv.similar_by_vector(wv['boy']-wv['girl']+wv['woman'])"
   ]
  },
  {
   "cell_type": "markdown",
   "metadata": {},
   "source": [
    "<u><i>Some notes about Word2Vec as an internal Neural Network</i></u>:\n",
    "\n",
    "You might wonder where does this magic comes from (at quite a low price, you just ran a line of code on a very small corpus and it was trained within few minutes). The magic comes from the way Word2Vec is trained. The details are quite complex, but you can remember that Word2vec, in `word2vec = Word2Vec(sentences=X_train)`, actually trains a internal neural network (that you don't see).  \n",
    "\n",
    "In a nutshell, this internal neural network predicts a word from the surroundings words in a sentences. Hence, it splits the original sentences, then for each split it chooses some words as inputs $X$ and a word as the output $y$ which it tries to predict, using the embedding space.\n",
    "\n",
    "And as with any neural network, Word2Vec has some hyperparameters. Let's play with some of these. "
   ]
  },
  {
   "cell_type": "markdown",
   "metadata": {},
   "source": [
    "# Word2Vec hyperparameters"
   ]
  },
  {
   "cell_type": "markdown",
   "metadata": {},
   "source": [
    "❓ **Question** ❓ The first important hyperparameter is the `vector_size` argument. It corresponds to the size of the embedding space. Learn a new `word2vec_2` model, still trained on the `X_train`, but with a smaller or higher `vector_size`.\n",
    "\n",
    "Verify on some words that the embedding size is the one you chose."
   ]
  },
  {
   "cell_type": "code",
   "execution_count": 14,
   "metadata": {
    "ExecuteTime": {
     "end_time": "2023-03-07T13:02:02.442686Z",
     "start_time": "2023-03-07T13:01:58.424501Z"
    },
    "tags": [
     "challengify"
    ]
   },
   "outputs": [],
   "source": [
    "word2vec_2 = Word2Vec(sentences=X_train, vector_size=130)\n",
    "wv2 = word2vec_2.wv"
   ]
  },
  {
   "cell_type": "markdown",
   "metadata": {},
   "source": [
    "❓ **Question** ❓ Use the **`Word2Vec.wv.key_to_index`** attribute to display the size of the learned vocabulary. Compare it to the number of different words in `X_train`."
   ]
  },
  {
   "cell_type": "code",
   "execution_count": 15,
   "metadata": {
    "ExecuteTime": {
     "end_time": "2023-03-07T13:02:02.514948Z",
     "start_time": "2023-03-07T13:02:02.444833Z"
    },
    "tags": [
     "challengify"
    ]
   },
   "outputs": [
    {
     "data": {
      "text/plain": [
       "{'the': 0,\n",
       " 'and': 1,\n",
       " 'a': 2,\n",
       " 'of': 3,\n",
       " 'to': 4,\n",
       " 'is': 5,\n",
       " 'br': 6,\n",
       " 'in': 7,\n",
       " 'it': 8,\n",
       " 'i': 9,\n",
       " 'this': 10,\n",
       " 'that': 11,\n",
       " 'was': 12,\n",
       " 'as': 13,\n",
       " 'for': 14,\n",
       " 'with': 15,\n",
       " 'movie': 16,\n",
       " 'but': 17,\n",
       " 'film': 18,\n",
       " 'on': 19,\n",
       " 'not': 20,\n",
       " 'you': 21,\n",
       " 'his': 22,\n",
       " 'are': 23,\n",
       " 'have': 24,\n",
       " 'be': 25,\n",
       " 'he': 26,\n",
       " 'one': 27,\n",
       " 'all': 28,\n",
       " 'at': 29,\n",
       " 'by': 30,\n",
       " 'they': 31,\n",
       " 'an': 32,\n",
       " 'so': 33,\n",
       " 'like': 34,\n",
       " 'from': 35,\n",
       " 'who': 36,\n",
       " 'her': 37,\n",
       " 'or': 38,\n",
       " 'just': 39,\n",
       " 'out': 40,\n",
       " 'if': 41,\n",
       " \"it's\": 42,\n",
       " 'about': 43,\n",
       " 'has': 44,\n",
       " 'some': 45,\n",
       " 'there': 46,\n",
       " 'what': 47,\n",
       " 'good': 48,\n",
       " 'more': 49,\n",
       " 'when': 50,\n",
       " 'very': 51,\n",
       " 'up': 52,\n",
       " 'my': 53,\n",
       " 'time': 54,\n",
       " 'she': 55,\n",
       " 'even': 56,\n",
       " 'no': 57,\n",
       " 'would': 58,\n",
       " 'really': 59,\n",
       " 'which': 60,\n",
       " 'only': 61,\n",
       " 'see': 62,\n",
       " 'their': 63,\n",
       " 'had': 64,\n",
       " 'story': 65,\n",
       " 'can': 66,\n",
       " 'me': 67,\n",
       " 'were': 68,\n",
       " 'well': 69,\n",
       " 'than': 70,\n",
       " 'we': 71,\n",
       " 'much': 72,\n",
       " 'bad': 73,\n",
       " 'get': 74,\n",
       " 'been': 75,\n",
       " 'do': 76,\n",
       " 'people': 77,\n",
       " 'will': 78,\n",
       " 'into': 79,\n",
       " 'also': 80,\n",
       " 'first': 81,\n",
       " 'because': 82,\n",
       " 'great': 83,\n",
       " 'other': 84,\n",
       " 'how': 85,\n",
       " 'him': 86,\n",
       " \"don't\": 87,\n",
       " 'most': 88,\n",
       " 'made': 89,\n",
       " 'way': 90,\n",
       " 'too': 91,\n",
       " 'then': 92,\n",
       " 'its': 93,\n",
       " 'make': 94,\n",
       " 'them': 95,\n",
       " 'any': 96,\n",
       " 'movies': 97,\n",
       " 'could': 98,\n",
       " 'after': 99,\n",
       " 'watch': 100,\n",
       " 'think': 101,\n",
       " 'films': 102,\n",
       " 'plot': 103,\n",
       " 'two': 104,\n",
       " 'seen': 105,\n",
       " 'character': 106,\n",
       " 'characters': 107,\n",
       " 'many': 108,\n",
       " 'acting': 109,\n",
       " 'life': 110,\n",
       " 'being': 111,\n",
       " 'best': 112,\n",
       " 'never': 113,\n",
       " 'over': 114,\n",
       " 'love': 115,\n",
       " 'did': 116,\n",
       " 'where': 117,\n",
       " 'little': 118,\n",
       " 'ever': 119,\n",
       " 'know': 120,\n",
       " 'show': 121,\n",
       " 'better': 122,\n",
       " 'man': 123,\n",
       " 'still': 124,\n",
       " 'end': 125,\n",
       " 'off': 126,\n",
       " 'does': 127,\n",
       " 'your': 128,\n",
       " 'while': 129,\n",
       " 'say': 130,\n",
       " 'these': 131,\n",
       " 'go': 132,\n",
       " 'scene': 133,\n",
       " 'here': 134,\n",
       " 'why': 135,\n",
       " 'through': 136,\n",
       " 'something': 137,\n",
       " 'back': 138,\n",
       " 'scenes': 139,\n",
       " 'should': 140,\n",
       " 'such': 141,\n",
       " 'real': 142,\n",
       " \"i'm\": 143,\n",
       " 'watching': 144,\n",
       " 'now': 145,\n",
       " 'thing': 146,\n",
       " 'those': 147,\n",
       " \"doesn't\": 148,\n",
       " 'old': 149,\n",
       " 'years': 150,\n",
       " 'work': 151,\n",
       " 'though': 152,\n",
       " 'nothing': 153,\n",
       " 'find': 154,\n",
       " 'funny': 155,\n",
       " 'before': 156,\n",
       " \"didn't\": 157,\n",
       " 'actors': 158,\n",
       " 'every': 159,\n",
       " 'director': 160,\n",
       " 'new': 161,\n",
       " 'another': 162,\n",
       " '10': 163,\n",
       " 'actually': 164,\n",
       " 'makes': 165,\n",
       " 'same': 166,\n",
       " 'going': 167,\n",
       " 'look': 168,\n",
       " 'again': 169,\n",
       " 'few': 170,\n",
       " 'lot': 171,\n",
       " \"can't\": 172,\n",
       " 'pretty': 173,\n",
       " 'quite': 174,\n",
       " 'cast': 175,\n",
       " 'part': 176,\n",
       " 'down': 177,\n",
       " 'got': 178,\n",
       " 'around': 179,\n",
       " 'us': 180,\n",
       " 'seems': 181,\n",
       " 'want': 182,\n",
       " 'things': 183,\n",
       " 'fact': 184,\n",
       " 'world': 185,\n",
       " 'thought': 186,\n",
       " 'own': 187,\n",
       " 'horror': 188,\n",
       " 'however': 189,\n",
       " \"that's\": 190,\n",
       " 'give': 191,\n",
       " 'original': 192,\n",
       " 'may': 193,\n",
       " 'series': 194,\n",
       " 'enough': 195,\n",
       " 'take': 196,\n",
       " 'young': 197,\n",
       " 'point': 198,\n",
       " 'long': 199,\n",
       " 'both': 200,\n",
       " 'between': 201,\n",
       " 'big': 202,\n",
       " \"isn't\": 203,\n",
       " 'bit': 204,\n",
       " 'done': 205,\n",
       " 'times': 206,\n",
       " 'come': 207,\n",
       " 'gets': 208,\n",
       " 'right': 209,\n",
       " 'role': 210,\n",
       " 'saw': 211,\n",
       " \"i've\": 212,\n",
       " 'action': 213,\n",
       " 'without': 214,\n",
       " 'always': 215,\n",
       " 'music': 216,\n",
       " 'script': 217,\n",
       " 'am': 218,\n",
       " 'interesting': 219,\n",
       " 'must': 220,\n",
       " 'guy': 221,\n",
       " 'least': 222,\n",
       " 'whole': 223,\n",
       " 'almost': 224,\n",
       " \"there's\": 225,\n",
       " 'far': 226,\n",
       " 'making': 227,\n",
       " 'family': 228,\n",
       " 'minutes': 229,\n",
       " 'last': 230,\n",
       " 'comedy': 231,\n",
       " 'performance': 232,\n",
       " '2': 233,\n",
       " 'might': 234,\n",
       " 'since': 235,\n",
       " 'kind': 236,\n",
       " \"he's\": 237,\n",
       " 'anything': 238,\n",
       " 'sure': 239,\n",
       " 'hard': 240,\n",
       " 'day': 241,\n",
       " 'rather': 242,\n",
       " 'away': 243,\n",
       " 'feel': 244,\n",
       " 'woman': 245,\n",
       " 'probably': 246,\n",
       " 'fun': 247,\n",
       " 'tv': 248,\n",
       " 'worst': 249,\n",
       " 'girl': 250,\n",
       " 'course': 251,\n",
       " 'yet': 252,\n",
       " 'found': 253,\n",
       " 'trying': 254,\n",
       " 'anyone': 255,\n",
       " 'especially': 256,\n",
       " 'money': 257,\n",
       " 'believe': 258,\n",
       " 'having': 259,\n",
       " 'although': 260,\n",
       " 'actor': 261,\n",
       " 'looking': 262,\n",
       " 'our': 263,\n",
       " 'each': 264,\n",
       " 'comes': 265,\n",
       " 'put': 266,\n",
       " 'set': 267,\n",
       " 'watched': 268,\n",
       " 'ending': 269,\n",
       " \"wasn't\": 270,\n",
       " 'played': 271,\n",
       " 'looks': 272,\n",
       " 'different': 273,\n",
       " 'maybe': 274,\n",
       " 'place': 275,\n",
       " 'goes': 276,\n",
       " 'screen': 277,\n",
       " 'book': 278,\n",
       " 'shows': 279,\n",
       " 'everything': 280,\n",
       " 'three': 281,\n",
       " 'sense': 282,\n",
       " 'later': 283,\n",
       " 'night': 284,\n",
       " '1': 285,\n",
       " 'once': 286,\n",
       " 'job': 287,\n",
       " 'true': 288,\n",
       " 'reason': 289,\n",
       " 'main': 290,\n",
       " 'dvd': 291,\n",
       " 'american': 292,\n",
       " 'worth': 293,\n",
       " 'high': 294,\n",
       " 'together': 295,\n",
       " 'version': 296,\n",
       " 'house': 297,\n",
       " 'year': 298,\n",
       " 'plays': 299,\n",
       " 'play': 300,\n",
       " 'instead': 301,\n",
       " 'during': 302,\n",
       " 'someone': 303,\n",
       " 'said': 304,\n",
       " 'himself': 305,\n",
       " 'seeing': 306,\n",
       " 'effects': 307,\n",
       " 'left': 308,\n",
       " 'takes': 309,\n",
       " 'audience': 310,\n",
       " 'half': 311,\n",
       " 'beautiful': 312,\n",
       " 'else': 313,\n",
       " 'mind': 314,\n",
       " \"you're\": 315,\n",
       " 'star': 316,\n",
       " 'excellent': 317,\n",
       " 'wife': 318,\n",
       " 'special': 319,\n",
       " 'less': 320,\n",
       " 'john': 321,\n",
       " 'help': 322,\n",
       " 'black': 323,\n",
       " 'short': 324,\n",
       " 'shot': 325,\n",
       " 'idea': 326,\n",
       " 'home': 327,\n",
       " 'seem': 328,\n",
       " 'dead': 329,\n",
       " 'read': 330,\n",
       " 'men': 331,\n",
       " 'war': 332,\n",
       " 'either': 333,\n",
       " 'death': 334,\n",
       " 'simply': 335,\n",
       " 'everyone': 336,\n",
       " 'top': 337,\n",
       " 'fan': 338,\n",
       " 'second': 339,\n",
       " 'try': 340,\n",
       " '3': 341,\n",
       " 'nice': 342,\n",
       " 'need': 343,\n",
       " 'used': 344,\n",
       " 'poor': 345,\n",
       " 'enjoy': 346,\n",
       " 'budget': 347,\n",
       " 'along': 348,\n",
       " 'camera': 349,\n",
       " 'given': 350,\n",
       " 'mean': 351,\n",
       " 'father': 352,\n",
       " 'friends': 353,\n",
       " 'hollywood': 354,\n",
       " 'completely': 355,\n",
       " 'boring': 356,\n",
       " 'until': 357,\n",
       " 'line': 358,\n",
       " 'stupid': 359,\n",
       " 'rest': 360,\n",
       " 'performances': 361,\n",
       " 'low': 362,\n",
       " 'production': 363,\n",
       " 'next': 364,\n",
       " 'use': 365,\n",
       " 'tell': 366,\n",
       " 'women': 367,\n",
       " 'moments': 368,\n",
       " 'face': 369,\n",
       " 'kids': 370,\n",
       " \"couldn't\": 371,\n",
       " 'often': 372,\n",
       " 'getting': 373,\n",
       " 'perhaps': 374,\n",
       " 'wrong': 375,\n",
       " 'video': 376,\n",
       " 'terrible': 377,\n",
       " 'came': 378,\n",
       " 'full': 379,\n",
       " 'doing': 380,\n",
       " 'school': 381,\n",
       " 'keep': 382,\n",
       " 'couple': 383,\n",
       " 'small': 384,\n",
       " 'awful': 385,\n",
       " 'truly': 386,\n",
       " 'recommend': 387,\n",
       " 'classic': 388,\n",
       " 'playing': 389,\n",
       " 'others': 390,\n",
       " 'finally': 391,\n",
       " 'understand': 392,\n",
       " 'gives': 393,\n",
       " 'stars': 394,\n",
       " 'supposed': 395,\n",
       " 'let': 396,\n",
       " 'itself': 397,\n",
       " 'human': 398,\n",
       " 'style': 399,\n",
       " 'wonderful': 400,\n",
       " 'early': 401,\n",
       " 'dialogue': 402,\n",
       " 'name': 403,\n",
       " 'case': 404,\n",
       " 'head': 405,\n",
       " 'start': 406,\n",
       " 'perfect': 407,\n",
       " 'liked': 408,\n",
       " 'hope': 409,\n",
       " 'definitely': 410,\n",
       " 'remember': 411,\n",
       " 'sex': 412,\n",
       " 'based': 413,\n",
       " 'become': 414,\n",
       " 'worse': 415,\n",
       " \"she's\": 416,\n",
       " 'felt': 417,\n",
       " \"i'd\": 418,\n",
       " 'mr': 419,\n",
       " 'title': 420,\n",
       " 'sort': 421,\n",
       " 'turn': 422,\n",
       " 'piece': 423,\n",
       " 'person': 424,\n",
       " 'absolutely': 425,\n",
       " 'against': 426,\n",
       " 'boy': 427,\n",
       " 'episode': 428,\n",
       " 'lines': 429,\n",
       " 'live': 430,\n",
       " 'written': 431,\n",
       " 'problem': 432,\n",
       " 'picture': 433,\n",
       " 'called': 434,\n",
       " 'cinema': 435,\n",
       " 'certainly': 436,\n",
       " 'yes': 437,\n",
       " 'dark': 438,\n",
       " 'already': 439,\n",
       " 'waste': 440,\n",
       " 'throughout': 441,\n",
       " 'lost': 442,\n",
       " 'loved': 443,\n",
       " 'went': 444,\n",
       " 'laugh': 445,\n",
       " 'under': 446,\n",
       " 'evil': 447,\n",
       " 'totally': 448,\n",
       " 'heart': 449,\n",
       " 'entire': 450,\n",
       " 'becomes': 451,\n",
       " 'entertaining': 452,\n",
       " 'fans': 453,\n",
       " 'art': 454,\n",
       " 'drama': 455,\n",
       " 'mother': 456,\n",
       " 'fine': 457,\n",
       " 'killer': 458,\n",
       " 'writing': 459,\n",
       " 'care': 460,\n",
       " 'overall': 461,\n",
       " '4': 462,\n",
       " 'white': 463,\n",
       " 'run': 464,\n",
       " 'town': 465,\n",
       " 'oh': 466,\n",
       " 'wanted': 467,\n",
       " 'days': 468,\n",
       " 'actress': 469,\n",
       " 'tries': 470,\n",
       " 'several': 471,\n",
       " 'amazing': 472,\n",
       " 'direction': 473,\n",
       " 'friend': 474,\n",
       " 'example': 475,\n",
       " \"won't\": 476,\n",
       " 'sound': 477,\n",
       " '5': 478,\n",
       " 'lives': 479,\n",
       " 'beginning': 480,\n",
       " 'children': 481,\n",
       " 'hour': 482,\n",
       " 'unfortunately': 483,\n",
       " 'lead': 484,\n",
       " 'despite': 485,\n",
       " 'themselves': 486,\n",
       " \"you'll\": 487,\n",
       " 'wants': 488,\n",
       " 'able': 489,\n",
       " \"they're\": 490,\n",
       " 'humor': 491,\n",
       " 'history': 492,\n",
       " 'guys': 493,\n",
       " 'close': 494,\n",
       " 'act': 495,\n",
       " 'sometimes': 496,\n",
       " 'guess': 497,\n",
       " 'etc': 498,\n",
       " 'final': 499,\n",
       " 'side': 500,\n",
       " 'thinking': 501,\n",
       " 'eyes': 502,\n",
       " 'soon': 503,\n",
       " 'quality': 504,\n",
       " 'seemed': 505,\n",
       " 'b': 506,\n",
       " 'car': 507,\n",
       " 'kill': 508,\n",
       " 'flick': 509,\n",
       " 'gave': 510,\n",
       " 'girls': 511,\n",
       " 'god': 512,\n",
       " 'past': 513,\n",
       " 'genre': 514,\n",
       " '\\x96': 515,\n",
       " 'city': 516,\n",
       " 'type': 517,\n",
       " 'hand': 518,\n",
       " 'highly': 519,\n",
       " 'anyway': 520,\n",
       " 'favorite': 521,\n",
       " 'says': 522,\n",
       " 'viewer': 523,\n",
       " 'late': 524,\n",
       " 'works': 525,\n",
       " 'except': 526,\n",
       " 'behind': 527,\n",
       " 'particularly': 528,\n",
       " 'child': 529,\n",
       " 's': 530,\n",
       " 'son': 531,\n",
       " 'michael': 532,\n",
       " 'took': 533,\n",
       " 'leave': 534,\n",
       " 'voice': 535,\n",
       " 'alone': 536,\n",
       " 'self': 537,\n",
       " 'cannot': 538,\n",
       " 'myself': 539,\n",
       " 'daughter': 540,\n",
       " 'attempt': 541,\n",
       " 'brilliant': 542,\n",
       " 'slow': 543,\n",
       " 'feeling': 544,\n",
       " 'obviously': 545,\n",
       " 'expect': 546,\n",
       " 'stuff': 547,\n",
       " 'turns': 548,\n",
       " 'including': 549,\n",
       " 'parts': 550,\n",
       " 'age': 551,\n",
       " 'please': 552,\n",
       " 'starts': 553,\n",
       " 'decent': 554,\n",
       " 'looked': 555,\n",
       " 'brother': 556,\n",
       " 'across': 557,\n",
       " 'blood': 558,\n",
       " 'game': 559,\n",
       " 'roles': 560,\n",
       " 'moment': 561,\n",
       " 'directed': 562,\n",
       " 'hit': 563,\n",
       " 'obvious': 564,\n",
       " 'enjoyed': 565,\n",
       " 'happened': 566,\n",
       " 'matter': 567,\n",
       " 'chance': 568,\n",
       " 'involved': 569,\n",
       " 'told': 570,\n",
       " 'police': 571,\n",
       " 'stop': 572,\n",
       " 'save': 573,\n",
       " 'serious': 574,\n",
       " 'cut': 575,\n",
       " 'heard': 576,\n",
       " 'running': 577,\n",
       " 'kid': 578,\n",
       " 'shown': 579,\n",
       " 'violence': 580,\n",
       " 'writer': 581,\n",
       " 'happen': 582,\n",
       " 'body': 583,\n",
       " 'exactly': 584,\n",
       " 'wonder': 585,\n",
       " 'lack': 586,\n",
       " 'known': 587,\n",
       " 'experience': 588,\n",
       " 'horrible': 589,\n",
       " 'coming': 590,\n",
       " 'relationship': 591,\n",
       " 'opinion': 592,\n",
       " 'happens': 593,\n",
       " \"film's\": 594,\n",
       " 'david': 595,\n",
       " 'power': 596,\n",
       " 'simple': 597,\n",
       " 'possible': 598,\n",
       " 'view': 599,\n",
       " 'ok': 600,\n",
       " 'group': 601,\n",
       " 'english': 602,\n",
       " 'scary': 603,\n",
       " 'husband': 604,\n",
       " 'extremely': 605,\n",
       " 'murder': 606,\n",
       " 'number': 607,\n",
       " \"i'll\": 608,\n",
       " 'light': 609,\n",
       " 'fight': 610,\n",
       " 'crap': 611,\n",
       " 'jokes': 612,\n",
       " 'musical': 613,\n",
       " 'yourself': 614,\n",
       " 'whose': 615,\n",
       " 'seriously': 616,\n",
       " 'today': 617,\n",
       " 'wish': 618,\n",
       " 'career': 619,\n",
       " 'killed': 620,\n",
       " \"aren't\": 621,\n",
       " 'score': 622,\n",
       " 'mostly': 623,\n",
       " 'hours': 624,\n",
       " 'ago': 625,\n",
       " 'basically': 626,\n",
       " 'taken': 627,\n",
       " 'single': 628,\n",
       " 'hell': 629,\n",
       " 'rating': 630,\n",
       " 'cool': 631,\n",
       " 'novel': 632,\n",
       " 'words': 633,\n",
       " 'strong': 634,\n",
       " 'somewhat': 635,\n",
       " 'interest': 636,\n",
       " \"wouldn't\": 637,\n",
       " 'country': 638,\n",
       " 'supporting': 639,\n",
       " 'word': 640,\n",
       " 'middle': 641,\n",
       " 'living': 642,\n",
       " 'stories': 643,\n",
       " 'annoying': 644,\n",
       " 'started': 645,\n",
       " 'sad': 646,\n",
       " 'episodes': 647,\n",
       " 'documentary': 648,\n",
       " 'bring': 649,\n",
       " 'female': 650,\n",
       " 'turned': 651,\n",
       " 'usually': 652,\n",
       " 'comic': 653,\n",
       " 'shots': 654,\n",
       " 'robert': 655,\n",
       " 'class': 656,\n",
       " 'huge': 657,\n",
       " 'reality': 658,\n",
       " 'call': 659,\n",
       " 'released': 660,\n",
       " 'hilarious': 661,\n",
       " 'song': 662,\n",
       " 'level': 663,\n",
       " 'attention': 664,\n",
       " 'major': 665,\n",
       " 'gore': 666,\n",
       " 'cinematography': 667,\n",
       " 'due': 668,\n",
       " 'local': 669,\n",
       " 'clearly': 670,\n",
       " '7': 671,\n",
       " 'none': 672,\n",
       " 'future': 673,\n",
       " 'taking': 674,\n",
       " 'similar': 675,\n",
       " 'strange': 676,\n",
       " 'miss': 677,\n",
       " 'happy': 678,\n",
       " 'british': 679,\n",
       " 'ones': 680,\n",
       " 'sets': 681,\n",
       " 'events': 682,\n",
       " 'complete': 683,\n",
       " 'fast': 684,\n",
       " 'falls': 685,\n",
       " 'thriller': 686,\n",
       " 'lady': 687,\n",
       " 'mystery': 688,\n",
       " 'ends': 689,\n",
       " 'beyond': 690,\n",
       " 'five': 691,\n",
       " 'opening': 692,\n",
       " 'hero': 693,\n",
       " 'talking': 694,\n",
       " 'sequel': 695,\n",
       " 'james': 696,\n",
       " 'entertainment': 697,\n",
       " 'ridiculous': 698,\n",
       " 'apparently': 699,\n",
       " 'tells': 700,\n",
       " 'enjoyable': 701,\n",
       " 'disappointed': 702,\n",
       " 'king': 703,\n",
       " '9': 704,\n",
       " 'whether': 705,\n",
       " 'stay': 706,\n",
       " 'moving': 707,\n",
       " 'comments': 708,\n",
       " 'eye': 709,\n",
       " 'means': 710,\n",
       " 'surprised': 711,\n",
       " 'talent': 712,\n",
       " 'easily': 713,\n",
       " 'animation': 714,\n",
       " 'room': 715,\n",
       " 'lame': 716,\n",
       " 'usual': 717,\n",
       " 'hate': 718,\n",
       " 'saying': 719,\n",
       " 'points': 720,\n",
       " 'ten': 721,\n",
       " 'modern': 722,\n",
       " 'finds': 723,\n",
       " 'important': 724,\n",
       " 'tried': 725,\n",
       " 'dialog': 726,\n",
       " 'rock': 727,\n",
       " 'cheap': 728,\n",
       " 'indeed': 729,\n",
       " 'sorry': 730,\n",
       " 'order': 731,\n",
       " 'message': 732,\n",
       " 'television': 733,\n",
       " 'within': 734,\n",
       " 'ways': 735,\n",
       " 'kept': 736,\n",
       " 'predictable': 737,\n",
       " 'red': 738,\n",
       " 'songs': 739,\n",
       " 'add': 740,\n",
       " 'knew': 741,\n",
       " 'four': 742,\n",
       " 'material': 743,\n",
       " 'somehow': 744,\n",
       " 'dull': 745,\n",
       " 'talk': 746,\n",
       " 'lee': 747,\n",
       " 'york': 748,\n",
       " 'problems': 749,\n",
       " 'storyline': 750,\n",
       " 'sequence': 751,\n",
       " 'giving': 752,\n",
       " 'minute': 753,\n",
       " 'release': 754,\n",
       " '8': 755,\n",
       " 'typical': 756,\n",
       " 'richard': 757,\n",
       " 'oscar': 758,\n",
       " 'herself': 759,\n",
       " 'romantic': 760,\n",
       " 're': 761,\n",
       " 'change': 762,\n",
       " 'clear': 763,\n",
       " 'imagine': 764,\n",
       " 'theme': 765,\n",
       " 'figure': 766,\n",
       " 'fantastic': 767,\n",
       " 'knows': 768,\n",
       " 'review': 769,\n",
       " 'possibly': 770,\n",
       " 'parents': 771,\n",
       " 'silly': 772,\n",
       " 'lots': 773,\n",
       " 'appears': 774,\n",
       " 'non': 775,\n",
       " 'earth': 776,\n",
       " \"haven't\": 777,\n",
       " 'needs': 778,\n",
       " 'upon': 779,\n",
       " 'editing': 780,\n",
       " \"'\": 781,\n",
       " 'straight': 782,\n",
       " 'theater': 783,\n",
       " 'paul': 784,\n",
       " 'jane': 785,\n",
       " 'bunch': 786,\n",
       " 'zombie': 787,\n",
       " 'japanese': 788,\n",
       " 'named': 789,\n",
       " 'french': 790,\n",
       " 'above': 791,\n",
       " 'nearly': 792,\n",
       " 'fall': 793,\n",
       " 't': 794,\n",
       " 'filmed': 795,\n",
       " 'check': 796,\n",
       " 'period': 797,\n",
       " 'elements': 798,\n",
       " 'follow': 799,\n",
       " 'stand': 800,\n",
       " 'peter': 801,\n",
       " 'brought': 802,\n",
       " 'jack': 803,\n",
       " 'difficult': 804,\n",
       " 'easy': 805,\n",
       " 'feels': 806,\n",
       " 'feature': 807,\n",
       " 'average': 808,\n",
       " 'george': 809,\n",
       " 'team': 810,\n",
       " 'actual': 811,\n",
       " 'street': 812,\n",
       " 'eventually': 813,\n",
       " 'gone': 814,\n",
       " \"what's\": 815,\n",
       " 'mention': 816,\n",
       " 'reviews': 817,\n",
       " 'effort': 818,\n",
       " 'realistic': 819,\n",
       " 'believable': 820,\n",
       " 'write': 821,\n",
       " 'sequences': 822,\n",
       " 'emotional': 823,\n",
       " 'near': 824,\n",
       " 'hear': 825,\n",
       " 'atmosphere': 826,\n",
       " 'wait': 827,\n",
       " 'using': 828,\n",
       " 'tale': 829,\n",
       " 'working': 830,\n",
       " 'begins': 831,\n",
       " \"let's\": 832,\n",
       " 'space': 833,\n",
       " 'christmas': 834,\n",
       " 'general': 835,\n",
       " 'okay': 836,\n",
       " 'learn': 837,\n",
       " 'dream': 838,\n",
       " 'doubt': 839,\n",
       " 'comment': 840,\n",
       " 'third': 841,\n",
       " 'interested': 842,\n",
       " 'soundtrack': 843,\n",
       " \"you've\": 844,\n",
       " 'viewers': 845,\n",
       " 'leads': 846,\n",
       " 'shame': 847,\n",
       " 'screenplay': 848,\n",
       " 'whatever': 849,\n",
       " 'among': 850,\n",
       " 'sit': 851,\n",
       " \"who's\": 852,\n",
       " 'de': 853,\n",
       " 'season': 854,\n",
       " 'meet': 855,\n",
       " 'weak': 856,\n",
       " 'premise': 857,\n",
       " 'particular': 858,\n",
       " 'showing': 859,\n",
       " 'sister': 860,\n",
       " 'setting': 861,\n",
       " 'badly': 862,\n",
       " 'fire': 863,\n",
       " 'air': 864,\n",
       " 'suspense': 865,\n",
       " 'expected': 866,\n",
       " 'note': 867,\n",
       " 'die': 868,\n",
       " 'leading': 869,\n",
       " 'whom': 870,\n",
       " 'move': 871,\n",
       " 'appear': 872,\n",
       " 'writers': 873,\n",
       " 'avoid': 874,\n",
       " 'sexual': 875,\n",
       " 'nor': 876,\n",
       " 'buy': 877,\n",
       " 'beauty': 878,\n",
       " 'situation': 879,\n",
       " 'certain': 880,\n",
       " 'greatest': 881,\n",
       " 'famous': 882,\n",
       " 'reading': 883,\n",
       " 'imdb': 884,\n",
       " 'social': 885,\n",
       " 'free': 886,\n",
       " 'decided': 887,\n",
       " 'rent': 888,\n",
       " 'footage': 889,\n",
       " 'laughs': 890,\n",
       " 'poorly': 891,\n",
       " 'outside': 892,\n",
       " 'nudity': 893,\n",
       " 'forced': 894,\n",
       " 'portrayed': 895,\n",
       " 'dance': 896,\n",
       " 'unless': 897,\n",
       " 'earlier': 898,\n",
       " 'america': 899,\n",
       " 'deal': 900,\n",
       " 'leaves': 901,\n",
       " 'joe': 902,\n",
       " 'hands': 903,\n",
       " 'crime': 904,\n",
       " 'dramatic': 905,\n",
       " 'viewing': 906,\n",
       " 'twist': 907,\n",
       " 'tom': 908,\n",
       " 'sounds': 909,\n",
       " 'needed': 910,\n",
       " 'open': 911,\n",
       " 'worked': 912,\n",
       " 'joke': 913,\n",
       " 'baby': 914,\n",
       " 'male': 915,\n",
       " 'girlfriend': 916,\n",
       " '20': 917,\n",
       " 'nature': 918,\n",
       " 'mess': 919,\n",
       " 'forward': 920,\n",
       " 'directing': 921,\n",
       " 'deep': 922,\n",
       " 'pay': 923,\n",
       " 'box': 924,\n",
       " 'stage': 925,\n",
       " 'form': 926,\n",
       " 'directors': 927,\n",
       " 'older': 928,\n",
       " 'otherwise': 929,\n",
       " 'truth': 930,\n",
       " 'subject': 931,\n",
       " 'result': 932,\n",
       " 'weird': 933,\n",
       " 'forget': 934,\n",
       " 'plenty': 935,\n",
       " 'match': 936,\n",
       " 'business': 937,\n",
       " 'hot': 938,\n",
       " 'batman': 939,\n",
       " 'fantasy': 940,\n",
       " 'became': 941,\n",
       " 'society': 942,\n",
       " 'crazy': 943,\n",
       " 'boys': 944,\n",
       " 'surprise': 945,\n",
       " 'ask': 946,\n",
       " 'unlike': 947,\n",
       " 'admit': 948,\n",
       " 'perfectly': 949,\n",
       " 'brings': 950,\n",
       " 'break': 951,\n",
       " 'inside': 952,\n",
       " 'credits': 953,\n",
       " 'dumb': 954,\n",
       " 'sadly': 955,\n",
       " 'wasted': 956,\n",
       " 'casting': 957,\n",
       " 'e': 958,\n",
       " 'following': 959,\n",
       " 'acted': 960,\n",
       " 'waiting': 961,\n",
       " 'question': 962,\n",
       " 'incredibly': 963,\n",
       " 'fighting': 964,\n",
       " 'present': 965,\n",
       " 'western': 966,\n",
       " 'brothers': 967,\n",
       " 'wrote': 968,\n",
       " 'crew': 969,\n",
       " 'apart': 970,\n",
       " 'odd': 971,\n",
       " 'previous': 972,\n",
       " 'failed': 973,\n",
       " 'return': 974,\n",
       " 'meets': 975,\n",
       " 'fi': 976,\n",
       " 'powerful': 977,\n",
       " 'married': 978,\n",
       " 'creepy': 979,\n",
       " 'keeps': 980,\n",
       " 'caught': 981,\n",
       " 'sci': 982,\n",
       " 'considered': 983,\n",
       " 'superb': 984,\n",
       " 'romance': 985,\n",
       " 'recently': 986,\n",
       " 'ended': 987,\n",
       " 'memorable': 988,\n",
       " 'dog': 989,\n",
       " 'copy': 990,\n",
       " 'realize': 991,\n",
       " 'development': 992,\n",
       " 'killing': 993,\n",
       " 'missed': 994,\n",
       " 'villain': 995,\n",
       " 'various': 996,\n",
       " 'potential': 997,\n",
       " 'scott': 998,\n",
       " 'hair': 999,\n",
       " ...}"
      ]
     },
     "execution_count": 15,
     "metadata": {},
     "output_type": "execute_result"
    }
   ],
   "source": [
    "wv2.key_to_index"
   ]
  },
  {
   "cell_type": "markdown",
   "metadata": {},
   "source": [
    "There is an important difference between the number of words in the train sentences and in the Word2Vec vocabulary, even though it has been trained on the train sentence set. The reasons comes from the second important hyperparameter of Word2Vec:  `min_count`. \n",
    "\n",
    "`min_count` is a integer that tells you how many occurrences a given word should have to be learned in the embedding space. For instance, let's say that the word \"movie\" appears 1000 times in the corpus and \"simba\" only 2 times. If `min_count=3`, the word \"simba\" will be skipped during the training.\n",
    "\n",
    "The intention is to learn a representation of words that are sufficiently present in the corpus to have a robust embedded representation."
   ]
  },
  {
   "cell_type": "markdown",
   "metadata": {},
   "source": [
    "❓ **Question** ❓ Learn a new `word2vec_3` model with a `min_count` higher than 5 (which is the default value) and a `word2vec_4` with a `min_count` smaller than 5, and then, compare the size of the vocabulary for all the different word2vecs that you have trained (you can choose any `vector_size` you want)."
   ]
  },
  {
   "cell_type": "code",
   "execution_count": 16,
   "metadata": {
    "ExecuteTime": {
     "end_time": "2023-03-07T13:02:10.187769Z",
     "start_time": "2023-03-07T13:02:02.519519Z"
    },
    "tags": [
     "challengify"
    ]
   },
   "outputs": [
    {
     "name": "stdout",
     "output_type": "stream",
     "text": [
      "20607 8817\n"
     ]
    }
   ],
   "source": [
    "word2vec_3 = Word2Vec(sentences=X_train, vector_size=130, min_count=3)\n",
    "wv3 = word2vec_3.wv\n",
    "word2vec_4 = Word2Vec(sentences=X_train, vector_size=130, min_count=10)\n",
    "wv4 = word2vec_4.wv\n",
    "\n",
    "print(len(wv3),len(wv4))"
   ]
  },
  {
   "cell_type": "markdown",
   "metadata": {},
   "source": [
    "Remember that Word2Vec has an internal neural network that is optimized based on some predictions. These predictions actually correspond to predicting a word based on surrounding words. The surroundings words are in a `window` which corresponds to the number of words taken into account. And you can train the Word2Vec with different `window` sizes."
   ]
  },
  {
   "cell_type": "markdown",
   "metadata": {},
   "source": [
    "❓ **Question** ❓ Train a new `word2vec_5` model with a `window` different than previously (default is 5)."
   ]
  },
  {
   "cell_type": "code",
   "execution_count": 17,
   "metadata": {
    "ExecuteTime": {
     "end_time": "2023-03-07T13:02:13.944416Z",
     "start_time": "2023-03-07T13:02:10.192509Z"
    },
    "tags": [
     "challengify"
    ]
   },
   "outputs": [],
   "source": [
    "word2vec_5 = Word2Vec(sentences=X_train, vector_size=130, min_count=7, window=7)\n",
    "wv5 = word2vec_5.wv"
   ]
  },
  {
   "cell_type": "markdown",
   "metadata": {},
   "source": [
    "The arguments you have seen (`vector_size`, `min_count` and `window`) are usually the ones that you should start playing with to get a better performance for your model.\n",
    "\n",
    "But you can also look at other arguments in the [**📚 Documentation - gensim.models.word2vec.Text8Corpus**](https://radimrehurek.com/gensim/models/word2vec.html#gensim.models.word2vec.Text8Corpus)"
   ]
  },
  {
   "cell_type": "markdown",
   "metadata": {},
   "source": [
    "# Convert our train and test set to RNN-ready datasets"
   ]
  },
  {
   "cell_type": "markdown",
   "metadata": {},
   "source": [
    "Remember that `Word2Vec` is the first step to the overall process of feeding such a representation into a RNN, as shown here:\n",
    "\n",
    "<img src=\"word2vec_representation.png\" width=\"400px\" />\n",
    "\n",
    "\n",
    "\n",
    "Now, let's work on Step 2 by converting the training and test data into their vector representation to be ready to be fed in RNNs.\n",
    "\n",
    "❓ **Question** ❓ Now, write a function that, given a sentence, returns a matrix that corresponds to the embedding of the full sentence, which means that you have to embed each word one after the other and concatenate the result to output a 2D matrix (make sure that your output is a NumPy array)\n",
    "\n",
    "❗ **Remark** ❗ You will probably notice that some words you are trying to convert throw errors as they are said not to belong to the dictionary:\n",
    "\n",
    "- For the <font color=orange>test</font> set, this is understandable: <font color=orange>some words were not</font> in the <font color=blue>train</font> set and thus, their <font color=orange>embedded representation is unknown</font>\n",
    "- for the <font color=blue>train set</font>, due to `min_count` hyperparameter, not all the words have a vector representation.\n",
    "\n",
    "In any case, just skip the missing words here."
   ]
  },
  {
   "cell_type": "code",
   "execution_count": 18,
   "metadata": {
    "ExecuteTime": {
     "end_time": "2023-03-07T13:02:14.004814Z",
     "start_time": "2023-03-07T13:02:13.952885Z"
    }
   },
   "outputs": [
    {
     "data": {
      "text/plain": [
       "False"
      ]
     },
     "execution_count": 18,
     "metadata": {},
     "output_type": "execute_result"
    }
   ],
   "source": [
    "'ame' in wv"
   ]
  },
  {
   "cell_type": "code",
   "execution_count": 19,
   "metadata": {
    "ExecuteTime": {
     "end_time": "2023-03-07T13:02:14.048642Z",
     "start_time": "2023-03-07T13:02:14.008194Z"
    }
   },
   "outputs": [],
   "source": [
    "def embed_sentence(word2vec, sentence):\n",
    "    return np.array([word2vec[i] for i in sentence if i in word2vec]) "
   ]
  },
  {
   "cell_type": "code",
   "execution_count": 20,
   "metadata": {
    "ExecuteTime": {
     "end_time": "2023-03-07T13:02:14.100290Z",
     "start_time": "2023-03-07T13:02:14.051977Z"
    }
   },
   "outputs": [],
   "source": [
    "import numpy as np\n",
    "\n",
    "example = ['this', 'movie', 'is', 'the', 'worst', 'action', 'movie', 'ever']\n",
    "example_missing_words = ['this', 'movie', 'is', 'laaaaaaaaaame']\n",
    "\n",
    "\n",
    "    \n",
    "### Checks\n",
    "embedded_sentence = embed_sentence(wv, example)\n",
    "assert(type(embedded_sentence) == np.ndarray)\n",
    "assert(embedded_sentence.shape == (8, 100))\n",
    "\n",
    "embedded_sentence_missing_words = embed_sentence(wv, example_missing_words)  \n",
    "assert(type(embedded_sentence_missing_words) == np.ndarray)\n",
    "assert(embedded_sentence_missing_words.shape == (3, 100))"
   ]
  },
  {
   "cell_type": "markdown",
   "metadata": {},
   "source": [
    "❓ **Question** ❓ Write a function that, given a list of sentences (each sentence being a list of words/strings), returns a list of embedded sentences (each sentence is a matrix). Apply this function to the train and test sentences\n",
    "\n",
    "💡 _Hint_: Use the previous function `embed_sentence`"
   ]
  },
  {
   "cell_type": "code",
   "execution_count": null,
   "metadata": {
    "ExecuteTime": {
     "start_time": "2023-03-07T13:05:34.982Z"
    }
   },
   "outputs": [],
   "source": [
    "def embedding(word2vec, sentences):\n",
    "    return [embed_sentence(word2vec, i) for i in sentences]\n",
    "    \n",
    "X_train_emb = embedding(wv, X_train)\n",
    "X_test_emb = embedding(wv, X_test)"
   ]
  },
  {
   "cell_type": "markdown",
   "metadata": {},
   "source": [
    "❓ **Question** ❓ In order to have ready-to-use data, do not forget to pad your sequences so you have tensors which can be divided into batches (of `batch_size`) during the optimization. Store the padded values in `X_train_pad` and `X_test_pad`. Do not forget the important arguments of the padding ;)"
   ]
  },
  {
   "cell_type": "code",
   "execution_count": null,
   "metadata": {
    "ExecuteTime": {
     "start_time": "2023-03-07T13:05:34.984Z"
    }
   },
   "outputs": [],
   "source": [
    "\n",
    "def plot_hist(X):\n",
    "    len_ = [len(_) for _ in X]\n",
    "    plt.hist(len_)\n",
    "    plt.title('Histogram of the number of sentences that have a given number of words')\n",
    "    plt.show()\n",
    "    \n",
    "plot_hist(X_train_emb)"
   ]
  },
  {
   "cell_type": "code",
   "execution_count": null,
   "metadata": {
    "ExecuteTime": {
     "start_time": "2023-03-07T13:05:34.986Z"
    }
   },
   "outputs": [],
   "source": [
    "\n",
    "X_train_pad = pad_sequences(X_train_emb, dtype='float32', padding='post', value=0, maxlen=400)\n",
    "X_test_pad = pad_sequences(X_test_emb, dtype='float32', padding='post', value=0, maxlen=400)\n",
    "\n",
    "assert(len(X_train_pad.shape) == 3)\n",
    "assert(len(X_test_pad.shape) == 3)\n",
    "assert(X_train_pad.shape[2] == 100)\n",
    "assert(X_test_pad.shape[2] == 100)"
   ]
  },
  {
   "cell_type": "markdown",
   "metadata": {},
   "source": [
    "\n",
    "\n",
    "🏁 Congratulations, you are now able to use `Word2Vec` to embed your words :)\n",
    "\n",
    "💾 Don't forget to git add/commit/push your notebook...\n",
    "\n",
    "🚀 ... and move on to the next challenge!\n"
   ]
  },
  {
   "cell_type": "code",
   "execution_count": null,
   "metadata": {
    "ExecuteTime": {
     "start_time": "2023-03-07T13:05:34.987Z"
    }
   },
   "outputs": [],
   "source": [
    "!git Understand-embeddings-with-word2vec.ipynb\n",
    "\n",
    "!git commit -m 'Challenge validation nNLP beginner, word2vec'\n",
    "\n",
    "!git push origin master"
   ]
  }
 ],
 "metadata": {
  "kernelspec": {
   "display_name": "Python 3 (ipykernel)",
   "language": "python",
   "name": "python3"
  },
  "language_info": {
   "codemirror_mode": {
    "name": "ipython",
    "version": 3
   },
   "file_extension": ".py",
   "mimetype": "text/x-python",
   "name": "python",
   "nbconvert_exporter": "python",
   "pygments_lexer": "ipython3",
   "version": "3.10.6"
  },
  "toc": {
   "base_numbering": 1,
   "nav_menu": {},
   "number_sections": true,
   "sideBar": true,
   "skip_h1_title": false,
   "title_cell": "Table of Contents",
   "title_sidebar": "Contents",
   "toc_cell": false,
   "toc_position": {},
   "toc_section_display": true,
   "toc_window_display": false
  }
 },
 "nbformat": 4,
 "nbformat_minor": 4
}
