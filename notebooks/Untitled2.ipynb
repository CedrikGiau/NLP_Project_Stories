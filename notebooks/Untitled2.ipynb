{
 "cells": [
  {
   "cell_type": "code",
   "execution_count": 1,
   "id": "341aa044",
   "metadata": {},
   "outputs": [],
   "source": [
    "import numpy as np\n",
    "import pandas as pd\n",
    "import re\n",
    "import os\n",
    "import glob"
   ]
  },
  {
   "cell_type": "code",
   "execution_count": 2,
   "id": "ff44e5a9",
   "metadata": {},
   "outputs": [
    {
     "name": "stdout",
     "output_type": "stream",
     "text": [
      "/home/isaacs07/code/CedrikGiau/NLP_Project_Stories/notebooks\r\n"
     ]
    }
   ],
   "source": [
    "!pwd"
   ]
  },
  {
   "cell_type": "code",
   "execution_count": 3,
   "id": "59e1ac43",
   "metadata": {},
   "outputs": [
    {
     "name": "stdout",
     "output_type": "stream",
     "text": [
      "['maza.txt', 'miss.txt', 'shos.txt', '3gar.txt', 'cano.txt', 'seco.txt', 'lion.txt', 'stud.txt', 'lady.txt', 'gold.txt', 'blan.txt', 'glor.txt', 'gree.txt', 'copp.txt', 'resi.txt', 'redc.txt', 'twis.txt', 'empt.txt', 'retn.txt', 'danc.txt', 'croo.txt', 'scan.txt', 'blue.txt', 'vall.txt', 'norw.txt', 'fina.txt', 'blac.txt', '3stu.txt', 'wist.txt', 'cree.txt', 'reti.txt', 'redh.txt', 'reig.txt', 'sign.txt', 'houn.txt', 'bruc.txt', 'abbe.txt', 'dyin.txt', 'devi.txt', 'yell.txt', 'case.txt', 'stoc.txt', 'bosc.txt', 'last.txt', 'engr.txt', 'lstb.txt', 'nava.txt', 'mems.txt', 'spec.txt', 'bery.txt', 'musg.txt', 'advs.txt', 'suss.txt', 'chas.txt', 'thor.txt', 'nobl.txt', 'card.txt', 'illu.txt', 'five.txt', 'veil.txt', 'cnus.txt', 'iden.txt', 'silv.txt', '3gab.txt', 'soli.txt', 'prio.txt', 'sixn.txt']\n"
     ]
    }
   ],
   "source": [
    "# folder path\n",
    "dir_path = r'/home/isaacs07/code/CedrikGiau/NLP_Project_Stories/raw_data/archive_30/archive(30)/sherlock'\n",
    "# list to store files\n",
    "res = []\n",
    "# Iterate directory\n",
    "for file in os.listdir(dir_path):\n",
    "    # check only text files\n",
    "    if file.endswith('.txt'):\n",
    "        res.append(file)\n",
    "print(res)"
   ]
  },
  {
   "cell_type": "code",
   "execution_count": 4,
   "id": "2dee57c8",
   "metadata": {
    "scrolled": true
   },
   "outputs": [],
   "source": [
    "\n",
    "stories = {}\n",
    "i=0\n",
    "for file in glob.glob(f'{dir_path}/*'):\n",
    "\n",
    "# for file in res:\n",
    "    with open(file, \"r\") as text_file:\n",
    "        first_line = text_file.readline()\n",
    "        stories[i]=[first_line,text_file.read()]\n",
    "        \n",
    "    i+=1"
   ]
  },
  {
   "cell_type": "code",
   "execution_count": 13,
   "id": "c3c80f36",
   "metadata": {},
   "outputs": [],
   "source": [
    "stories_df = pd.DataFrame.from_dict(data=stories, orient='index', columns=['title', 'text'])"
   ]
  },
  {
   "cell_type": "code",
   "execution_count": 14,
   "id": "8d84ddf4",
   "metadata": {},
   "outputs": [
    {
     "data": {
      "text/html": [
       "<div>\n",
       "<style scoped>\n",
       "    .dataframe tbody tr th:only-of-type {\n",
       "        vertical-align: middle;\n",
       "    }\n",
       "\n",
       "    .dataframe tbody tr th {\n",
       "        vertical-align: top;\n",
       "    }\n",
       "\n",
       "    .dataframe thead th {\n",
       "        text-align: right;\n",
       "    }\n",
       "</style>\n",
       "<table border=\"1\" class=\"dataframe\">\n",
       "  <thead>\n",
       "    <tr style=\"text-align: right;\">\n",
       "      <th></th>\n",
       "      <th>title</th>\n",
       "      <th>text</th>\n",
       "    </tr>\n",
       "  </thead>\n",
       "  <tbody>\n",
       "    <tr>\n",
       "      <th>0</th>\n",
       "      <td>THE ADVENTURE OF THE MA...</td>\n",
       "      <td>\\n\\n\\n\\n     It was pleasant to Dr. Watson to ...</td>\n",
       "    </tr>\n",
       "    <tr>\n",
       "      <th>1</th>\n",
       "      <td>\\t\\t\\t\\tTHE ADVENTURE OF THE MISSING THREE-QUA...</td>\n",
       "      <td>\\n\\n\\n\\n     We were fairly accustomed to rece...</td>\n",
       "    </tr>\n",
       "    <tr>\n",
       "      <th>2</th>\n",
       "      <td>THE ADVENTURE OF SHOSCOM...</td>\n",
       "      <td>\\n\\n\\n\\n     Sherlock Holmes had been bending ...</td>\n",
       "    </tr>\n",
       "    <tr>\n",
       "      <th>3</th>\n",
       "      <td>THE ADVENTURE OF THE THR...</td>\n",
       "      <td>\\n\\n\\n\\n     It may have been a comedy, or it ...</td>\n",
       "    </tr>\n",
       "    <tr>\n",
       "      <th>4</th>\n",
       "      <td>THE COMPLETE SHERLOC...</td>\n",
       "      <td>\\n\\n\\n\\n                                      ...</td>\n",
       "    </tr>\n",
       "    <tr>\n",
       "      <th>...</th>\n",
       "      <td>...</td>\n",
       "      <td>...</td>\n",
       "    </tr>\n",
       "    <tr>\n",
       "      <th>62</th>\n",
       "      <td>SILVER BLAZE\\n</td>\n",
       "      <td>\\n\\n\\n\\n     \"I am afraid, Watson, that I shal...</td>\n",
       "    </tr>\n",
       "    <tr>\n",
       "      <th>63</th>\n",
       "      <td>THE ADVENTURE OF THE T...</td>\n",
       "      <td>\\n\\n\\n     I don't think that any of my advent...</td>\n",
       "    </tr>\n",
       "    <tr>\n",
       "      <th>64</th>\n",
       "      <td>THE ADVENTURE OF THE SOL...</td>\n",
       "      <td>\\n\\n\\n\\n     From the years 1894 to 1901 inclu...</td>\n",
       "    </tr>\n",
       "    <tr>\n",
       "      <th>65</th>\n",
       "      <td>THE ADVENTURE OF THE PR...</td>\n",
       "      <td>\\n\\n\\n\\n     We have had some dramatic entranc...</td>\n",
       "    </tr>\n",
       "    <tr>\n",
       "      <th>66</th>\n",
       "      <td>THE ADVENTURE OF THE SI...</td>\n",
       "      <td>\\n\\n\\n\\n     It was no very unusual thing for ...</td>\n",
       "    </tr>\n",
       "  </tbody>\n",
       "</table>\n",
       "<p>67 rows × 2 columns</p>\n",
       "</div>"
      ],
      "text/plain": [
       "                                                title  \\\n",
       "0                          THE ADVENTURE OF THE MA...   \n",
       "1   \\t\\t\\t\\tTHE ADVENTURE OF THE MISSING THREE-QUA...   \n",
       "2                         THE ADVENTURE OF SHOSCOM...   \n",
       "3                         THE ADVENTURE OF THE THR...   \n",
       "4                             THE COMPLETE SHERLOC...   \n",
       "..                                                ...   \n",
       "62                                     SILVER BLAZE\\n   \n",
       "63                          THE ADVENTURE OF THE T...   \n",
       "64                        THE ADVENTURE OF THE SOL...   \n",
       "65                         THE ADVENTURE OF THE PR...   \n",
       "66                         THE ADVENTURE OF THE SI...   \n",
       "\n",
       "                                                 text  \n",
       "0   \\n\\n\\n\\n     It was pleasant to Dr. Watson to ...  \n",
       "1   \\n\\n\\n\\n     We were fairly accustomed to rece...  \n",
       "2   \\n\\n\\n\\n     Sherlock Holmes had been bending ...  \n",
       "3   \\n\\n\\n\\n     It may have been a comedy, or it ...  \n",
       "4   \\n\\n\\n\\n                                      ...  \n",
       "..                                                ...  \n",
       "62  \\n\\n\\n\\n     \"I am afraid, Watson, that I shal...  \n",
       "63  \\n\\n\\n     I don't think that any of my advent...  \n",
       "64  \\n\\n\\n\\n     From the years 1894 to 1901 inclu...  \n",
       "65  \\n\\n\\n\\n     We have had some dramatic entranc...  \n",
       "66  \\n\\n\\n\\n     It was no very unusual thing for ...  \n",
       "\n",
       "[67 rows x 2 columns]"
      ]
     },
     "execution_count": 14,
     "metadata": {},
     "output_type": "execute_result"
    }
   ],
   "source": [
    "stories_df"
   ]
  },
  {
   "cell_type": "code",
   "execution_count": 15,
   "id": "57f24bbe",
   "metadata": {},
   "outputs": [
    {
     "data": {
      "text/plain": [
       "str"
      ]
     },
     "execution_count": 15,
     "metadata": {},
     "output_type": "execute_result"
    }
   ],
   "source": [
    "type(stories_df.text[0])"
   ]
  },
  {
   "cell_type": "code",
   "execution_count": 16,
   "id": "4e6a9a77",
   "metadata": {},
   "outputs": [],
   "source": [
    "stories_df['text'] = stories_df['text'].map(lambda x: x.replace('\\n', ''))"
   ]
  },
  {
   "cell_type": "code",
   "execution_count": 21,
   "id": "5aa2642b",
   "metadata": {},
   "outputs": [],
   "source": [
    "stories_df['title'] = stories_df['title'].map(lambda x: x.replace('\\t', ''))"
   ]
  },
  {
   "cell_type": "code",
   "execution_count": 22,
   "id": "f9eacf37",
   "metadata": {},
   "outputs": [],
   "source": [
    "stories_df['title'] = stories_df['title'].map(lambda x: x.replace('\\n', ''))"
   ]
  },
  {
   "cell_type": "code",
   "execution_count": 23,
   "id": "d55a28ec",
   "metadata": {},
   "outputs": [
    {
     "data": {
      "text/html": [
       "<div>\n",
       "<style scoped>\n",
       "    .dataframe tbody tr th:only-of-type {\n",
       "        vertical-align: middle;\n",
       "    }\n",
       "\n",
       "    .dataframe tbody tr th {\n",
       "        vertical-align: top;\n",
       "    }\n",
       "\n",
       "    .dataframe thead th {\n",
       "        text-align: right;\n",
       "    }\n",
       "</style>\n",
       "<table border=\"1\" class=\"dataframe\">\n",
       "  <thead>\n",
       "    <tr style=\"text-align: right;\">\n",
       "      <th></th>\n",
       "      <th>title</th>\n",
       "      <th>text</th>\n",
       "    </tr>\n",
       "  </thead>\n",
       "  <tbody>\n",
       "    <tr>\n",
       "      <th>0</th>\n",
       "      <td>THE ADVENTURE OF THE MA...</td>\n",
       "      <td>It was pleasant to Dr. Watson to find him...</td>\n",
       "    </tr>\n",
       "    <tr>\n",
       "      <th>1</th>\n",
       "      <td>THE ADVENTURE OF THE MISSING THREE-QUARTER</td>\n",
       "      <td>We were fairly accustomed to receive weir...</td>\n",
       "    </tr>\n",
       "    <tr>\n",
       "      <th>2</th>\n",
       "      <td>THE ADVENTURE OF SHOSCOM...</td>\n",
       "      <td>Sherlock Holmes had been bending for a lo...</td>\n",
       "    </tr>\n",
       "    <tr>\n",
       "      <th>3</th>\n",
       "      <td>THE ADVENTURE OF THE THR...</td>\n",
       "      <td>It may have been a comedy, or it may have...</td>\n",
       "    </tr>\n",
       "    <tr>\n",
       "      <th>4</th>\n",
       "      <td>THE COMPLETE SHERLOC...</td>\n",
       "      <td>PART I  ...</td>\n",
       "    </tr>\n",
       "    <tr>\n",
       "      <th>...</th>\n",
       "      <td>...</td>\n",
       "      <td>...</td>\n",
       "    </tr>\n",
       "    <tr>\n",
       "      <th>62</th>\n",
       "      <td>SILVER BLAZE</td>\n",
       "      <td>\"I am afraid, Watson, that I shall have t...</td>\n",
       "    </tr>\n",
       "    <tr>\n",
       "      <th>63</th>\n",
       "      <td>THE ADVENTURE OF THE T...</td>\n",
       "      <td>I don't think that any of my adventures w...</td>\n",
       "    </tr>\n",
       "    <tr>\n",
       "      <th>64</th>\n",
       "      <td>THE ADVENTURE OF THE SOL...</td>\n",
       "      <td>From the years 1894 to 1901 inclusive Mr....</td>\n",
       "    </tr>\n",
       "    <tr>\n",
       "      <th>65</th>\n",
       "      <td>THE ADVENTURE OF THE PR...</td>\n",
       "      <td>We have had some dramatic entrances and e...</td>\n",
       "    </tr>\n",
       "    <tr>\n",
       "      <th>66</th>\n",
       "      <td>THE ADVENTURE OF THE SI...</td>\n",
       "      <td>It was no very unusual thing for Mr. Lest...</td>\n",
       "    </tr>\n",
       "  </tbody>\n",
       "</table>\n",
       "<p>67 rows × 2 columns</p>\n",
       "</div>"
      ],
      "text/plain": [
       "                                                title  \\\n",
       "0                          THE ADVENTURE OF THE MA...   \n",
       "1          THE ADVENTURE OF THE MISSING THREE-QUARTER   \n",
       "2                         THE ADVENTURE OF SHOSCOM...   \n",
       "3                         THE ADVENTURE OF THE THR...   \n",
       "4                             THE COMPLETE SHERLOC...   \n",
       "..                                                ...   \n",
       "62                                       SILVER BLAZE   \n",
       "63                          THE ADVENTURE OF THE T...   \n",
       "64                        THE ADVENTURE OF THE SOL...   \n",
       "65                         THE ADVENTURE OF THE PR...   \n",
       "66                         THE ADVENTURE OF THE SI...   \n",
       "\n",
       "                                                 text  \n",
       "0        It was pleasant to Dr. Watson to find him...  \n",
       "1        We were fairly accustomed to receive weir...  \n",
       "2        Sherlock Holmes had been bending for a lo...  \n",
       "3        It may have been a comedy, or it may have...  \n",
       "4                                         PART I  ...  \n",
       "..                                                ...  \n",
       "62       \"I am afraid, Watson, that I shall have t...  \n",
       "63       I don't think that any of my adventures w...  \n",
       "64       From the years 1894 to 1901 inclusive Mr....  \n",
       "65       We have had some dramatic entrances and e...  \n",
       "66       It was no very unusual thing for Mr. Lest...  \n",
       "\n",
       "[67 rows x 2 columns]"
      ]
     },
     "execution_count": 23,
     "metadata": {},
     "output_type": "execute_result"
    }
   ],
   "source": [
    "stories_df"
   ]
  },
  {
   "cell_type": "code",
   "execution_count": 29,
   "id": "d5b16a25",
   "metadata": {},
   "outputs": [],
   "source": [
    "stories_df.to_csv('../processed_data/archive_30.csv')"
   ]
  }
 ],
 "metadata": {
  "kernelspec": {
   "display_name": "Python 3 (ipykernel)",
   "language": "python",
   "name": "python3"
  },
  "language_info": {
   "codemirror_mode": {
    "name": "ipython",
    "version": 3
   },
   "file_extension": ".py",
   "mimetype": "text/x-python",
   "name": "python",
   "nbconvert_exporter": "python",
   "pygments_lexer": "ipython3",
   "version": "3.10.6"
  },
  "toc": {
   "base_numbering": 1,
   "nav_menu": {},
   "number_sections": true,
   "sideBar": true,
   "skip_h1_title": false,
   "title_cell": "Table of Contents",
   "title_sidebar": "Contents",
   "toc_cell": false,
   "toc_position": {},
   "toc_section_display": true,
   "toc_window_display": false
  }
 },
 "nbformat": 4,
 "nbformat_minor": 5
}
